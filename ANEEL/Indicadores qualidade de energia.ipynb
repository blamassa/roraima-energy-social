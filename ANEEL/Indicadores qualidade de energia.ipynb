{
  "cells": [
    {
      "metadata": {
        "trusted": true
      },
      "cell_type": "code",
      "source": "!pip3 install pyspark",
      "execution_count": 2,
      "outputs": [
        {
          "output_type": "stream",
          "text": "Collecting pyspark\n\u001b[?25l  Downloading https://files.pythonhosted.org/packages/88/01/a37e827c2d80c6a754e40e99b9826d978b55254cc6c6672b5b08f2e18a7f/pyspark-2.4.0.tar.gz (213.4MB)\n\u001b[K    100% |████████████████████████████████| 213.4MB 5.9kB/s eta 0:00:01MB 12.4MB/s eta 0:00:13                  | 62.4MB 6.0MB/s eta 0:00:25██▌                      | 63.5MB 9.8MB/s eta 0:00:16K    33% |██████████▋                     | 70.6MB 5.5MB/s eta 0:00:26a 0:00:11��█▏                    | 74.4MB 10.7MB/s eta 0:00:13              | 78.3MB 10.0MB/s eta 0:00:14�██████████▊                   | 84.5MB 9.6MB/s eta 0:00:14    40% |█████████████                   | 86.9MB 10.6MB/s eta 0:00:12  | 89.5MB 9.3MB/s eta 0:00:14 | 92.4MB 10.7MB/s eta 0:00:12          | 93.6MB 11.7MB/s eta 0:00:11         | 95.8MB 13.7MB/s eta 0:00:09██████████▊                 | 97.8MB 7.1MB/s eta 0:00:17█████                 | 100.0MB 7.0MB/s eta 0:00:17��                | 103.2MB 9.0MB/s eta 0:00:13B/s eta 0:00:20��███████▍               | 109.5MB 13.8MB/s eta 0:00:08��████▌               | 110.3MB 9.8MB/s eta 0:00:11    52% |████████████████▊               | 111.2MB 22.7MB/s eta 0:00:05��███████▊               | 111.7MB 11.7MB/s eta 0:00:09    52% |█████████████████               | 112.8MB 31.6MB/s eta 0:00:04��████               | 113.4MB 4.1MB/s eta 0:00:25�███████████████▋              | 117.7MB 8.5MB/s eta 0:00:12  55% |█████████████████▉              | 118.7MB 11.0MB/s eta 0:00:09██████▎             | 121.9MB 12.6MB/s eta 0:00:08 10.3MB/s eta 0:00:09   | 125.1MB 21.7MB/s eta 0:00:05  | 127.1MB 31.7MB/s eta 0:00:03█████▏            | 127.9MB 10.3MB/s eta 0:00:09��██████▊            | 131.3MB 21.2MB/s eta 0:00:04�█████████            | 133.5MB 29.0MB/s eta 0:00:03██████████████████▏           | 134.3MB 18.9MB/s eta 0:00:05 |████████████████████▊           | 138.4MB 13.3MB/s eta 0:00:06:00:09MB/s eta 0:00:02MB 12.4MB/s eta 0:00:06█████████████████████▏         | 148.2MB 9.6MB/s eta 0:00:07█████▌         | 149.7MB 11.2MB/s eta 0:00:06█████▉         | 152.0MB 11.8MB/s eta 0:00:06��█████████████▎        | 155.2MB 8.5MB/s eta 0:00:07��████████████████▋        | 157.7MB 14.0MB/s eta 0:00:04��█████████████        | 159.9MB 9.2MB/s eta 0:00:06��█████████████████        | 160.7MB 20.3MB/s eta 0:00:03   76% |████████████████████████▍       | 162.7MB 12.7MB/s eta 0:00:04    77% |████████████████████████▊       | 164.8MB 10.7MB/s eta 0:00:05�████████▎      | 168.7MB 9.7MB/s eta 0:00:051.7MB 11.9MB/s eta 0:00:04�███████▏     | 174.5MB 11.1MB/s eta 0:00:04��████████▋     | 177.5MB 39.0MB/s eta 0:00:01████▉     | 179.1MB 9.2MB/s eta 0:00:04��█████████     | 180.6MB 26.9MB/s eta 0:00:02��████▎    | 181.8MB 14.9MB/s eta 0:00:03��██████████████████▍    | 182.5MB 9.2MB/s eta 0:00:04�███████████████████▋    | 184.0MB 9.3MB/s eta 0:00:04████████████████    | 186.9MB 4.8MB/s eta 0:00:06��███████████████████████████▏   | 187.9MB 42.5MB/s eta 0:00:01   89% |████████████████████████████▌   | 190.3MB 13.5MB/s eta 0:00:02   90% |█████████████████████████████   | 193.0MB 10.2MB/s eta 0:00:03�████████████████████████████   | 194.1MB 13.0MB/s eta 0:00:02.5MB 28.3MB/s eta 0:00:01.6MB 13.0MB/s eta 0:00:02.1MB 14.7MB/s eta 0:00:02�████▏ | 201.1MB 9.6MB/s eta 0:00:02███████▋ | 203.8MB 21.9MB/s eta 0:00:01███████▊ | 205.0MB 25.0MB/s eta 0:00:01████████ | 206.8MB 18.0MB/s eta 0:00:01�████ | 207.1MB 25.0MB/s eta 0:00:01�█████████████████▎| 208.5MB 13.7MB/s eta 0:00:01��██████████████████████████▎| 208.8MB 13.8MB/s eta 0:00:01�████████████████▌| 210.1MB 26.4MB/s eta 0:00:01�█████████████████▊| 211.4MB 28.9MB/s eta 0:00:01�██████████████████| 213.2MB 33.1MB/s eta 0:00:01\n\u001b[?25hCollecting py4j==0.10.7 (from pyspark)\n\u001b[?25l  Downloading https://files.pythonhosted.org/packages/e3/53/c737818eb9a7dc32a7cd4f1396e787bd94200c3997c72c1dbe028587bd76/py4j-0.10.7-py2.py3-none-any.whl (197kB)\n\u001b[K    100% |████████████████████████████████| 204kB 11.7MB/s ta 0:00:01\n\u001b[?25hBuilding wheels for collected packages: pyspark\n  Building wheel for pyspark (setup.py) ... \u001b[?25ldone\n\u001b[?25h  Stored in directory: /home/nbuser/.cache/pip/wheels/cd/54/c2/abfcc942eddeaa7101228ebd6127a30dbdf903c72db4235b23\nSuccessfully built pyspark\nInstalling collected packages: py4j, pyspark\nSuccessfully installed py4j-0.10.7 pyspark-2.4.0\n",
          "name": "stdout"
        }
      ]
    },
    {
      "metadata": {},
      "cell_type": "markdown",
      "source": "# Indicadores de qualidade de energia"
    },
    {
      "metadata": {
        "trusted": true
      },
      "cell_type": "code",
      "source": "from pyspark.sql import SparkSession\nfrom pyspark.sql.functions import *\nimport numpy as np\nspark = SparkSession.builder.getOrCreate()",
      "execution_count": 1,
      "outputs": [
        {
          "output_type": "error",
          "ename": "ImportError",
          "evalue": "No module named 'pyspark'",
          "traceback": [
            "\u001b[0;31m---------------------------------------------------------------------------\u001b[0m",
            "\u001b[0;31mImportError\u001b[0m                               Traceback (most recent call last)",
            "\u001b[0;32m<ipython-input-1-abb72b918ca3>\u001b[0m in \u001b[0;36m<module>\u001b[0;34m()\u001b[0m\n\u001b[0;32m----> 1\u001b[0;31m \u001b[0;32mfrom\u001b[0m \u001b[0mpyspark\u001b[0m\u001b[0;34m.\u001b[0m\u001b[0msql\u001b[0m \u001b[0;32mimport\u001b[0m \u001b[0mSparkSession\u001b[0m\u001b[0;34m\u001b[0m\u001b[0m\n\u001b[0m\u001b[1;32m      2\u001b[0m \u001b[0;32mfrom\u001b[0m \u001b[0mpyspark\u001b[0m\u001b[0;34m.\u001b[0m\u001b[0msql\u001b[0m\u001b[0;34m.\u001b[0m\u001b[0mfunctions\u001b[0m \u001b[0;32mimport\u001b[0m \u001b[0;34m*\u001b[0m\u001b[0;34m\u001b[0m\u001b[0m\n\u001b[1;32m      3\u001b[0m \u001b[0;32mimport\u001b[0m \u001b[0mnumpy\u001b[0m \u001b[0;32mas\u001b[0m \u001b[0mnp\u001b[0m\u001b[0;34m\u001b[0m\u001b[0m\n\u001b[1;32m      4\u001b[0m \u001b[0mspark\u001b[0m \u001b[0;34m=\u001b[0m \u001b[0mSparkSession\u001b[0m\u001b[0;34m.\u001b[0m\u001b[0mbuilder\u001b[0m\u001b[0;34m.\u001b[0m\u001b[0mgetOrCreate\u001b[0m\u001b[0;34m(\u001b[0m\u001b[0;34m)\u001b[0m\u001b[0;34m\u001b[0m\u001b[0m\n",
            "\u001b[0;31mImportError\u001b[0m: No module named 'pyspark'"
          ]
        }
      ]
    },
    {
      "metadata": {
        "trusted": false
      },
      "cell_type": "code",
      "source": "df_raw = spark.read.csv('CapacidadeInstaladaUF.csv', header=True, encoding='latin1')",
      "execution_count": 16,
      "outputs": []
    },
    {
      "metadata": {
        "trusted": false
      },
      "cell_type": "code",
      "source": "df = df_raw.withColumn('nomUF', upper(col('nomUF'))).withColumn('sigUF', upper(col('sigUF')))",
      "execution_count": 19,
      "outputs": []
    },
    {
      "metadata": {
        "trusted": false
      },
      "cell_type": "code",
      "source": "df = df.orderBy('anoReferencia', 'mesReferencia')",
      "execution_count": 24,
      "outputs": []
    },
    {
      "metadata": {
        "trusted": false
      },
      "cell_type": "code",
      "source": "x =  ['nomUF',\n 'sigUF',\n 'mdaPotenciaInstaladakW',\n 'mesReferencia',\n 'anoReferencia']",
      "execution_count": 27,
      "outputs": []
    },
    {
      "metadata": {
        "trusted": false
      },
      "cell_type": "code",
      "source": "df.select(x)[df['nomUF'] == 'RORAIMA'].show()",
      "execution_count": 39,
      "outputs": [
        {
          "name": "stdout",
          "output_type": "stream",
          "text": "+-------+-----+----------------------+-------------+-------------+\n|  nomUF|sigUF|mdaPotenciaInstaladakW|mesReferencia|anoReferencia|\n+-------+-----+----------------------+-------------+-------------+\n|RORAIMA|   RR|             118030.40|           12|         2006|\n|RORAIMA|   RR|             118102.40|           12|         2007|\n|RORAIMA|   RR|             117278.40|           12|         2008|\n|RORAIMA|   RR|             127410.40|           12|         2009|\n|RORAIMA|   RR|             127410.40|           12|         2010|\n|RORAIMA|   RR|             122610.00|           12|         2011|\n|RORAIMA|   RR|             122610.40|           12|         2012|\n|RORAIMA|   RR|             122610.40|            3|         2012|\n|RORAIMA|   RR|             122610.40|            6|         2012|\n|RORAIMA|   RR|             159722.00|            9|         2012|\n|RORAIMA|   RR|             122610.00|           12|         2013|\n|RORAIMA|   RR|             122610.00|            3|         2013|\n|RORAIMA|   RR|             122610.00|            6|         2013|\n|RORAIMA|   RR|             122610.00|            9|         2013|\n|RORAIMA|   RR|            4745751.00|           12|         2014|\n|RORAIMA|   RR|             122610.00|            3|         2014|\n|RORAIMA|   RR|             122610.00|            6|         2014|\n|RORAIMA|   RR|            4072261.00|            9|         2014|\n|RORAIMA|   RR|             264345.40|           12|         2015|\n|RORAIMA|   RR|             124438.00|            3|         2015|\n+-------+-----+----------------------+-------------+-------------+\nonly showing top 20 rows\n\n"
        }
      ]
    },
    {
      "metadata": {
        "trusted": false
      },
      "cell_type": "code",
      "source": "anual = df.select(x)[df['mesReferencia'] == 12].toPandas()",
      "execution_count": 51,
      "outputs": []
    },
    {
      "metadata": {
        "trusted": false
      },
      "cell_type": "code",
      "source": "lista_norte = ['AMAPÁ', 'RORAIMA', 'TOCANTINS', 'RONDÔNIA', 'AMAZONAS', 'ACRE', 'PARÁ']",
      "execution_count": 57,
      "outputs": []
    },
    {
      "metadata": {
        "trusted": false
      },
      "cell_type": "code",
      "source": "import plotly.offline as pyo\nimport plotly.graph_objs as go",
      "execution_count": 35,
      "outputs": []
    },
    {
      "metadata": {
        "trusted": false
      },
      "cell_type": "code",
      "source": "data = []\n\nfor uf in list(np.unique(anual['nomUF'])):\n    if uf in lista_norte:\n        df_temp = anual[anual['nomUF'] == uf]\n        data.append(go.Scatter(x = df_temp['anoReferencia'], y = df_temp['mdaPotenciaInstaladakW'], mode='lines', name = uf))\n\nlayout = go.Layout(title='Capacidade Instalada dos Estados da Região Norte',\n                  xaxis = dict(title = 'Ano'),\n                  yaxis = dict(title = 'Média da Pot. Instalada (kW)', \n                               titlefont=dict(size=16)\n                              ),\n                  font = dict(size = 18)\n                  )\nconfig = {'showLink': False}\n\nfig = go.Figure(data, layout)\n\npyo.plot(fig, filename='RR_capInstal.html' ,config=config)",
      "execution_count": 62,
      "outputs": [
        {
          "data": {
            "text/plain": "'file:///home/breno/proj/BETS/ANEEL/RR_capInstal.html'"
          },
          "execution_count": 62,
          "metadata": {},
          "output_type": "execute_result"
        }
      ]
    },
    {
      "metadata": {
        "trusted": false
      },
      "cell_type": "code",
      "source": "",
      "execution_count": null,
      "outputs": []
    }
  ],
  "metadata": {
    "kernelspec": {
      "name": "python3",
      "display_name": "Python 3",
      "language": "python"
    },
    "language_info": {
      "mimetype": "text/x-python",
      "nbconvert_exporter": "python",
      "name": "python",
      "pygments_lexer": "ipython3",
      "version": "3.5.4",
      "file_extension": ".py",
      "codemirror_mode": {
        "version": 3,
        "name": "ipython"
      }
    }
  },
  "nbformat": 4,
  "nbformat_minor": 2
}