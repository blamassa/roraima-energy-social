{
 "cells": [
  {
   "cell_type": "markdown",
   "metadata": {},
   "source": [
    "# Indicadores de qualidade de energia"
   ]
  },
  {
   "cell_type": "code",
   "execution_count": 6,
   "metadata": {},
   "outputs": [],
   "source": [
    "from pyspark.sql import SparkSession\n",
    "from pyspark.sql.functions import *\n",
    "import numpy as np\n",
    "spark = SparkSession.builder.getOrCreate()"
   ]
  },
  {
   "cell_type": "code",
   "execution_count": 16,
   "metadata": {},
   "outputs": [],
   "source": [
    "df_raw = spark.read.csv('CapacidadeInstaladaUF.csv', header=True, encoding='latin1')"
   ]
  },
  {
   "cell_type": "code",
   "execution_count": 19,
   "metadata": {},
   "outputs": [],
   "source": [
    "df = df_raw.withColumn('nomUF', upper(col('nomUF'))).withColumn('sigUF', upper(col('sigUF')))"
   ]
  },
  {
   "cell_type": "code",
   "execution_count": 24,
   "metadata": {},
   "outputs": [],
   "source": [
    "df = df.orderBy('anoReferencia', 'mesReferencia')"
   ]
  },
  {
   "cell_type": "code",
   "execution_count": 27,
   "metadata": {},
   "outputs": [],
   "source": [
    "x =  ['nomUF',\n",
    " 'sigUF',\n",
    " 'mdaPotenciaInstaladakW',\n",
    " 'mesReferencia',\n",
    " 'anoReferencia']"
   ]
  },
  {
   "cell_type": "code",
   "execution_count": 39,
   "metadata": {},
   "outputs": [
    {
     "name": "stdout",
     "output_type": "stream",
     "text": [
      "+-------+-----+----------------------+-------------+-------------+\n",
      "|  nomUF|sigUF|mdaPotenciaInstaladakW|mesReferencia|anoReferencia|\n",
      "+-------+-----+----------------------+-------------+-------------+\n",
      "|RORAIMA|   RR|             118030.40|           12|         2006|\n",
      "|RORAIMA|   RR|             118102.40|           12|         2007|\n",
      "|RORAIMA|   RR|             117278.40|           12|         2008|\n",
      "|RORAIMA|   RR|             127410.40|           12|         2009|\n",
      "|RORAIMA|   RR|             127410.40|           12|         2010|\n",
      "|RORAIMA|   RR|             122610.00|           12|         2011|\n",
      "|RORAIMA|   RR|             122610.40|           12|         2012|\n",
      "|RORAIMA|   RR|             122610.40|            3|         2012|\n",
      "|RORAIMA|   RR|             122610.40|            6|         2012|\n",
      "|RORAIMA|   RR|             159722.00|            9|         2012|\n",
      "|RORAIMA|   RR|             122610.00|           12|         2013|\n",
      "|RORAIMA|   RR|             122610.00|            3|         2013|\n",
      "|RORAIMA|   RR|             122610.00|            6|         2013|\n",
      "|RORAIMA|   RR|             122610.00|            9|         2013|\n",
      "|RORAIMA|   RR|            4745751.00|           12|         2014|\n",
      "|RORAIMA|   RR|             122610.00|            3|         2014|\n",
      "|RORAIMA|   RR|             122610.00|            6|         2014|\n",
      "|RORAIMA|   RR|            4072261.00|            9|         2014|\n",
      "|RORAIMA|   RR|             264345.40|           12|         2015|\n",
      "|RORAIMA|   RR|             124438.00|            3|         2015|\n",
      "+-------+-----+----------------------+-------------+-------------+\n",
      "only showing top 20 rows\n",
      "\n"
     ]
    }
   ],
   "source": [
    "df.select(x)[df['nomUF'] == 'RORAIMA'].show()"
   ]
  },
  {
   "cell_type": "code",
   "execution_count": 51,
   "metadata": {},
   "outputs": [],
   "source": [
    "anual = df.select(x)[df['mesReferencia'] == 12].toPandas()"
   ]
  },
  {
   "cell_type": "code",
   "execution_count": 57,
   "metadata": {},
   "outputs": [],
   "source": [
    "lista_norte = ['AMAPÁ', 'RORAIMA', 'TOCANTINS', 'RONDÔNIA', 'AMAZONAS', 'ACRE', 'PARÁ']"
   ]
  },
  {
   "cell_type": "code",
   "execution_count": 35,
   "metadata": {},
   "outputs": [],
   "source": [
    "import plotly.offline as pyo\n",
    "import plotly.graph_objs as go"
   ]
  },
  {
   "cell_type": "code",
   "execution_count": 62,
   "metadata": {},
   "outputs": [
    {
     "data": {
      "text/plain": [
       "'file:///home/breno/proj/BETS/ANEEL/RR_capInstal.html'"
      ]
     },
     "execution_count": 62,
     "metadata": {},
     "output_type": "execute_result"
    }
   ],
   "source": [
    "data = []\n",
    "\n",
    "for uf in list(np.unique(anual['nomUF'])):\n",
    "    if uf in lista_norte:\n",
    "        df_temp = anual[anual['nomUF'] == uf]\n",
    "        data.append(go.Scatter(x = df_temp['anoReferencia'], y = df_temp['mdaPotenciaInstaladakW'], mode='lines', name = uf))\n",
    "\n",
    "layout = go.Layout(title='Capacidade Instalada dos Estados da Região Norte',\n",
    "                  xaxis = dict(title = 'Ano'),\n",
    "                  yaxis = dict(title = 'Média da Pot. Instalada (kW)', \n",
    "                               titlefont=dict(size=16)\n",
    "                              ),\n",
    "                  font = dict(size = 18)\n",
    "                  )\n",
    "config = {'showLink': False}\n",
    "\n",
    "fig = go.Figure(data, layout)\n",
    "\n",
    "pyo.plot(fig, filename='RR_capInstal.html' ,config=config)"
   ]
  },
  {
   "cell_type": "code",
   "execution_count": null,
   "metadata": {},
   "outputs": [],
   "source": []
  }
 ],
 "metadata": {
  "kernelspec": {
   "display_name": "Python 3",
   "language": "python",
   "name": "python3"
  },
  "language_info": {
   "codemirror_mode": {
    "name": "ipython",
    "version": 3
   },
   "file_extension": ".py",
   "mimetype": "text/x-python",
   "name": "python",
   "nbconvert_exporter": "python",
   "pygments_lexer": "ipython3",
   "version": "3.6.5"
  }
 },
 "nbformat": 4,
 "nbformat_minor": 2
}
