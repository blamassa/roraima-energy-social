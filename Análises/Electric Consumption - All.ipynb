{
 "cells": [
  {
   "cell_type": "code",
   "execution_count": 1,
   "metadata": {},
   "outputs": [
    {
     "data": {
      "text/html": [
       "<script>requirejs.config({paths: { 'plotly': ['https://cdn.plot.ly/plotly-latest.min']},});if(!window.Plotly) {{require(['plotly'],function(plotly) {window.Plotly=plotly;});}}</script>"
      ],
      "text/vnd.plotly.v1+html": [
       "<script>requirejs.config({paths: { 'plotly': ['https://cdn.plot.ly/plotly-latest.min']},});if(!window.Plotly) {{require(['plotly'],function(plotly) {window.Plotly=plotly;});}}</script>"
      ]
     },
     "metadata": {},
     "output_type": "display_data"
    }
   ],
   "source": [
    "import pandas as pd\n",
    "import numpy as np\n",
    "import plotly.offline as pyo\n",
    "import plotly.graph_objs as go\n",
    "pyo.init_notebook_mode(connected=True)"
   ]
  },
  {
   "cell_type": "code",
   "execution_count": 4,
   "metadata": {},
   "outputs": [],
   "source": [
    "path = '/home/breno/proj/roraima-energy-social'"
   ]
  },
  {
   "cell_type": "markdown",
   "metadata": {},
   "source": [
    "# Análise séries - Consumo Elétrico"
   ]
  },
  {
   "cell_type": "code",
   "execution_count": 5,
   "metadata": {},
   "outputs": [],
   "source": [
    "df_index_north = pd.read_csv(path+'/NORTE/NORTH.csv', encoding='latin1',index_col=0)\n",
    "df_index_brasil = pd.read_csv(path+'/BRASIL/brasil.csv', encoding='latin1',index_col=0)"
   ]
  },
  {
   "cell_type": "code",
   "execution_count": 6,
   "metadata": {},
   "outputs": [
    {
     "data": {
      "text/html": [
       "<div>\n",
       "<style scoped>\n",
       "    .dataframe tbody tr th:only-of-type {\n",
       "        vertical-align: middle;\n",
       "    }\n",
       "\n",
       "    .dataframe tbody tr th {\n",
       "        vertical-align: top;\n",
       "    }\n",
       "\n",
       "    .dataframe thead th {\n",
       "        text-align: right;\n",
       "    }\n",
       "</style>\n",
       "<table border=\"1\" class=\"dataframe\">\n",
       "  <thead>\n",
       "    <tr style=\"text-align: right;\">\n",
       "      <th></th>\n",
       "      <th>code</th>\n",
       "      <th>description</th>\n",
       "      <th>unit</th>\n",
       "      <th>periodicity</th>\n",
       "      <th>start</th>\n",
       "      <th>last_value</th>\n",
       "      <th>source</th>\n",
       "    </tr>\n",
       "  </thead>\n",
       "  <tbody>\n",
       "    <tr>\n",
       "      <th>1</th>\n",
       "      <td>1402</td>\n",
       "      <td>Electric energy consumption - Brazil - commercial</td>\n",
       "      <td>GWh</td>\n",
       "      <td>M</td>\n",
       "      <td>31/01/1979</td>\n",
       "      <td>mar/2018</td>\n",
       "      <td>Eletrobras</td>\n",
       "    </tr>\n",
       "    <tr>\n",
       "      <th>2</th>\n",
       "      <td>1403</td>\n",
       "      <td>Electric energy consumption - Brazil - residen...</td>\n",
       "      <td>GWh</td>\n",
       "      <td>M</td>\n",
       "      <td>31/01/1979</td>\n",
       "      <td>mar/2018</td>\n",
       "      <td>Eletrobras</td>\n",
       "    </tr>\n",
       "    <tr>\n",
       "      <th>3</th>\n",
       "      <td>1404</td>\n",
       "      <td>Electric energy consumption - Brazil - industrial</td>\n",
       "      <td>GWh</td>\n",
       "      <td>M</td>\n",
       "      <td>31/01/1979</td>\n",
       "      <td>mar/2018</td>\n",
       "      <td>Eletrobras</td>\n",
       "    </tr>\n",
       "    <tr>\n",
       "      <th>4</th>\n",
       "      <td>1405</td>\n",
       "      <td>Electric energy consumption - Brazil - other</td>\n",
       "      <td>GWh</td>\n",
       "      <td>M</td>\n",
       "      <td>31/01/1979</td>\n",
       "      <td>mar/2018</td>\n",
       "      <td>Eletrobras</td>\n",
       "    </tr>\n",
       "    <tr>\n",
       "      <th>5</th>\n",
       "      <td>1406</td>\n",
       "      <td>Electric energy consumption - Brazil - total</td>\n",
       "      <td>GWh</td>\n",
       "      <td>M</td>\n",
       "      <td>31/01/1979</td>\n",
       "      <td>mar/2018</td>\n",
       "      <td>Eletrobras</td>\n",
       "    </tr>\n",
       "  </tbody>\n",
       "</table>\n",
       "</div>"
      ],
      "text/plain": [
       "   code                                        description unit periodicity  \\\n",
       "1  1402  Electric energy consumption - Brazil - commercial  GWh           M   \n",
       "2  1403  Electric energy consumption - Brazil - residen...  GWh           M   \n",
       "3  1404  Electric energy consumption - Brazil - industrial  GWh           M   \n",
       "4  1405       Electric energy consumption - Brazil - other  GWh           M   \n",
       "5  1406       Electric energy consumption - Brazil - total  GWh           M   \n",
       "\n",
       "        start last_value      source  \n",
       "1  31/01/1979   mar/2018  Eletrobras  \n",
       "2  31/01/1979   mar/2018  Eletrobras  \n",
       "3  31/01/1979   mar/2018  Eletrobras  \n",
       "4  31/01/1979   mar/2018  Eletrobras  \n",
       "5  31/01/1979   mar/2018  Eletrobras  "
      ]
     },
     "execution_count": 6,
     "metadata": {},
     "output_type": "execute_result"
    }
   ],
   "source": [
    "df_index_brasil.head(5)"
   ]
  },
  {
   "cell_type": "code",
   "execution_count": 7,
   "metadata": {},
   "outputs": [
    {
     "data": {
      "text/html": [
       "<div>\n",
       "<style scoped>\n",
       "    .dataframe tbody tr th:only-of-type {\n",
       "        vertical-align: middle;\n",
       "    }\n",
       "\n",
       "    .dataframe tbody tr th {\n",
       "        vertical-align: top;\n",
       "    }\n",
       "\n",
       "    .dataframe thead th {\n",
       "        text-align: right;\n",
       "    }\n",
       "</style>\n",
       "<table border=\"1\" class=\"dataframe\">\n",
       "  <thead>\n",
       "    <tr style=\"text-align: right;\">\n",
       "      <th></th>\n",
       "      <th>code</th>\n",
       "      <th>description</th>\n",
       "      <th>unit</th>\n",
       "      <th>periodicity</th>\n",
       "      <th>start</th>\n",
       "      <th>last_value</th>\n",
       "      <th>source</th>\n",
       "    </tr>\n",
       "  </thead>\n",
       "  <tbody>\n",
       "    <tr>\n",
       "      <th>4</th>\n",
       "      <td>1407</td>\n",
       "      <td>Electric energy consumption - Northern region ...</td>\n",
       "      <td>GWh</td>\n",
       "      <td>M</td>\n",
       "      <td>31/01/1979</td>\n",
       "      <td>mar/2018</td>\n",
       "      <td>Eletrobras</td>\n",
       "    </tr>\n",
       "    <tr>\n",
       "      <th>5</th>\n",
       "      <td>1408</td>\n",
       "      <td>Electric energy consumption - Northern region ...</td>\n",
       "      <td>GWh</td>\n",
       "      <td>M</td>\n",
       "      <td>31/01/1979</td>\n",
       "      <td>mar/2018</td>\n",
       "      <td>Eletrobras</td>\n",
       "    </tr>\n",
       "    <tr>\n",
       "      <th>6</th>\n",
       "      <td>14083</td>\n",
       "      <td>Balance of National Financial System credit op...</td>\n",
       "      <td>R$ (million)</td>\n",
       "      <td>M</td>\n",
       "      <td>01/01/2004</td>\n",
       "      <td>mar/2018</td>\n",
       "      <td>BCB</td>\n",
       "    </tr>\n",
       "    <tr>\n",
       "      <th>8</th>\n",
       "      <td>14088</td>\n",
       "      <td>Balance of National Financial System credit op...</td>\n",
       "      <td>R$ (million)</td>\n",
       "      <td>M</td>\n",
       "      <td>01/01/2004</td>\n",
       "      <td>mar/2018</td>\n",
       "      <td>BCB</td>\n",
       "    </tr>\n",
       "    <tr>\n",
       "      <th>9</th>\n",
       "      <td>1409</td>\n",
       "      <td>Electric energy consumption - Northern region ...</td>\n",
       "      <td>GWh</td>\n",
       "      <td>M</td>\n",
       "      <td>31/01/1979</td>\n",
       "      <td>mar/2018</td>\n",
       "      <td>Eletrobras</td>\n",
       "    </tr>\n",
       "  </tbody>\n",
       "</table>\n",
       "</div>"
      ],
      "text/plain": [
       "    code                                        description          unit  \\\n",
       "4   1407  Electric energy consumption - Northern region ...           GWh   \n",
       "5   1408  Electric energy consumption - Northern region ...           GWh   \n",
       "6  14083  Balance of National Financial System credit op...  R$ (million)   \n",
       "8  14088  Balance of National Financial System credit op...  R$ (million)   \n",
       "9   1409  Electric energy consumption - Northern region ...           GWh   \n",
       "\n",
       "  periodicity       start last_value      source  \n",
       "4           M  31/01/1979   mar/2018  Eletrobras  \n",
       "5           M  31/01/1979   mar/2018  Eletrobras  \n",
       "6           M  01/01/2004   mar/2018         BCB  \n",
       "8           M  01/01/2004   mar/2018         BCB  \n",
       "9           M  31/01/1979   mar/2018  Eletrobras  "
      ]
     },
     "execution_count": 7,
     "metadata": {},
     "output_type": "execute_result"
    }
   ],
   "source": [
    "df_index_north.head(5)"
   ]
  },
  {
   "cell_type": "markdown",
   "metadata": {},
   "source": [
    "### 1. Estudo consumo de eletricidade"
   ]
  },
  {
   "cell_type": "code",
   "execution_count": 15,
   "metadata": {},
   "outputs": [],
   "source": [
    "list_names_consumption = ['comercial', 'residencial', 'industrial', 'other','total']"
   ]
  },
  {
   "cell_type": "markdown",
   "metadata": {},
   "source": [
    "- Lendo dados NORTE"
   ]
  },
  {
   "cell_type": "code",
   "execution_count": 13,
   "metadata": {},
   "outputs": [],
   "source": [
    "list_consumption = []\n",
    "for i in np.arange(1407,1412,1):\n",
    "    list_consumption.append(pd.read_csv(path+'/NORTE/data/'+str(i)+'.csv', index_col=0))"
   ]
  },
  {
   "cell_type": "markdown",
   "metadata": {},
   "source": [
    "- Lendo dados BRASIL"
   ]
  },
  {
   "cell_type": "code",
   "execution_count": 16,
   "metadata": {},
   "outputs": [],
   "source": [
    "list_consumption_brasil = []\n",
    "for i in np.arange(1402,1407,1):\n",
    "    list_consumption_brasil.append(pd.read_csv(path+'/BRASIL/data/'+str(i)+'.csv', index_col=0))"
   ]
  },
  {
   "cell_type": "markdown",
   "metadata": {},
   "source": [
    "- Criando dataFrames unificados para Brasil e Norte"
   ]
  },
  {
   "cell_type": "code",
   "execution_count": 25,
   "metadata": {},
   "outputs": [],
   "source": [
    "# Norte\n",
    "df_consumption = pd.DataFrame()\n",
    "df_consumption['date'] = list_consumption[0]['date']\n",
    "for i in range(len(list_consumption)):\n",
    "    df_consumption[list_names_consumption[i]] = list_consumption[i]['value']\n",
    "    \n",
    "df_consumption['date'] = pd.DatetimeIndex(df_consumption['date'])\n",
    "\n",
    "# Brasil\n",
    "df_br_consumption = pd.DataFrame()\n",
    "df_br_consumption['date'] = list_consumption_brasil[0]['date']\n",
    "for i in range(len(list_consumption_brasil)):\n",
    "    df_br_consumption[list_names_consumption[i]] = list_consumption_brasil[i]['value']\n",
    "    \n",
    "df_br_consumption['date'] = pd.DatetimeIndex(df_consumption['date'])"
   ]
  },
  {
   "cell_type": "markdown",
   "metadata": {},
   "source": [
    "## NORTE - Plots"
   ]
  },
  {
   "cell_type": "markdown",
   "metadata": {},
   "source": [
    "- Generating plot (absolute values)"
   ]
  },
  {
   "cell_type": "code",
   "execution_count": 36,
   "metadata": {},
   "outputs": [
    {
     "data": {
      "text/plain": [
       "'file:///home/breno/proj/roraima-energy-socialConsumoNorteAbsoluto.html'"
      ]
     },
     "execution_count": 36,
     "metadata": {},
     "output_type": "execute_result"
    }
   ],
   "source": [
    "data = []\n",
    "x = df_consumption['date']\n",
    "for i in list_names_consumption:\n",
    "    trace = go.Scatter(x = x, y = df_consumption[i], name = i)\n",
    "    data.append(trace)\n",
    "layout = go.Layout(title = 'Consumo Elétrico Região Norte - Eletrobrás',\n",
    "                   yaxis = dict(title = 'Energia em GWh'),\n",
    "                   xaxis = dict(type = 'date'))\n",
    "fig = go.Figure(data=data, layout= layout)\n",
    "pyo.plot(fig, filename=path+'ConsumoNorteAbsoluto.html', config=dict(showLink = False))"
   ]
  },
  {
   "cell_type": "markdown",
   "metadata": {},
   "source": [
    "- Generating plot (relative values)"
   ]
  },
  {
   "cell_type": "code",
   "execution_count": 29,
   "metadata": {},
   "outputs": [
    {
     "data": {
      "text/plain": [
       "'file:///home/breno/proj/roraima-energy-social/Análises/ConsumoNorteRelativo.html'"
      ]
     },
     "execution_count": 29,
     "metadata": {},
     "output_type": "execute_result"
    }
   ],
   "source": [
    "temp_df = df_consumption.copy()\n",
    "for i in list_names_consumption[:-1]:\n",
    "    temp_df[i] = 100*temp_df[i]/temp_df['total']\n",
    "\n",
    "data = []\n",
    "x = temp_df['date']\n",
    "for i in list_names_consumption[:-1]:\n",
    "    trace = go.Scatter(x = x, y = temp_df[i], name = i)\n",
    "    data.append(trace)\n",
    "layout = go.Layout(title = 'Consumo Elétrico Região Norte - Eletrobrás',\n",
    "                   yaxis = dict(title = '% do consumo elétrico total'),\n",
    "                   xaxis = dict(type = 'date'))\n",
    "fig = go.Figure(data=data, layout= layout)\n",
    "pyo.plot(fig, filename='ConsumoNorteRelativo.html', config=dict(showLink = False))"
   ]
  },
  {
   "cell_type": "markdown",
   "metadata": {},
   "source": [
    "- Generating plot ($\\Delta$ values) - Mensal"
   ]
  },
  {
   "cell_type": "code",
   "execution_count": 41,
   "metadata": {},
   "outputs": [
    {
     "data": {
      "text/plain": [
       "'file:///home/breno/proj/roraima-energy-social/Análises/ConsumoNorteDeltaMensal.html'"
      ]
     },
     "execution_count": 41,
     "metadata": {},
     "output_type": "execute_result"
    }
   ],
   "source": [
    "temp_df = df_consumption.copy()\n",
    "for i in list_names_consumption:\n",
    "    temp_df[i] = 100*temp_df[i]/sum(temp_df[i])\n",
    "\n",
    "temp_df = temp_df.reset_index()\n",
    "for name in list_names_consumption:\n",
    "    temp_df[name] = [0]+[temp_df[name][i]-temp_df[name][i-1] for i in range(1,len(temp_df['comercial']))]\n",
    "    \n",
    "data = []\n",
    "x = temp_df['date']\n",
    "for i in list_names_consumption:\n",
    "    trace = go.Scatter(x = x, y = temp_df[i], name = i)\n",
    "    data.append(trace)\n",
    "layout = go.Layout(title = 'Consumo Elétrico Região Norte - Eletrobrás',\n",
    "                   yaxis = dict(title = 'Delta % do consumo elétrico'),\n",
    "                   xaxis = dict(type = 'date'))\n",
    "fig = go.Figure(data=data, layout= layout)\n",
    "pyo.plot(fig, filename='ConsumoNorteDeltaMensal.html', config=dict(showLink = False))"
   ]
  },
  {
   "cell_type": "markdown",
   "metadata": {},
   "source": [
    "- Generating plot ($\\Delta$ values) - Anual"
   ]
  },
  {
   "cell_type": "code",
   "execution_count": 43,
   "metadata": {},
   "outputs": [
    {
     "data": {
      "text/plain": [
       "'file:///home/breno/proj/roraima-energy-social/Análises/ConsumoNorteDeltaAnual.html'"
      ]
     },
     "execution_count": 43,
     "metadata": {},
     "output_type": "execute_result"
    }
   ],
   "source": [
    "temp_df = df_consumption.copy()\n",
    "temp_df['year'] = temp_df['date'].dt.year\n",
    "temp_df = temp_df.groupby('year').mean()\n",
    "\n",
    "for i in list_names_consumption:\n",
    "    temp_df[i] = 100*temp_df[i]/sum(temp_df[i])\n",
    "\n",
    "temp_df = temp_df.reset_index()\n",
    "for name in list_names_consumption:\n",
    "    temp_df[name] = [0]+[temp_df[name][i]-temp_df[name][i-1] for i in range(1,len(temp_df['comercial']))]\n",
    "    \n",
    "data = []\n",
    "x = temp_df['year']\n",
    "for i in list_names_consumption:\n",
    "    trace = go.Scatter(x = x, y = temp_df[i], name = i)\n",
    "    data.append(trace)\n",
    "layout = go.Layout(title = 'Consumo Elétrico Região Norte - Eletrobrás',\n",
    "                   yaxis = dict(title = 'Delta % do consumo elétrico'),\n",
    "                   xaxis = dict(type = 'date'))\n",
    "fig = go.Figure(data=data, layout= layout)\n",
    "pyo.plot(fig, filename='ConsumoNorteDeltaAnual.html', config=dict(showLink = False))"
   ]
  },
  {
   "cell_type": "markdown",
   "metadata": {},
   "source": [
    "## BRASIL - Plots"
   ]
  },
  {
   "cell_type": "markdown",
   "metadata": {},
   "source": [
    "- Generating plot (absolute values)"
   ]
  },
  {
   "cell_type": "code",
   "execution_count": 53,
   "metadata": {},
   "outputs": [
    {
     "data": {
      "text/plain": [
       "'file:///home/breno/proj/roraima-energy-social/Análises/ConsumoBrasilAbsoluto.html'"
      ]
     },
     "execution_count": 53,
     "metadata": {},
     "output_type": "execute_result"
    }
   ],
   "source": [
    "data = []\n",
    "x = df_br_consumption['date']\n",
    "for i in list_names_consumption:\n",
    "    trace = go.Scatter(x = x, y = df_br_consumption[i], name = i)\n",
    "    data.append(trace)\n",
    "layout = go.Layout(title = 'Consumo Elétrico Brasil - Eletrobrás',\n",
    "                   yaxis = dict(title = 'Energia em GWh'),\n",
    "                   xaxis = dict(type = 'date'))\n",
    "fig = go.Figure(data=data, layout= layout)\n",
    "pyo.plot(fig, filename='ConsumoBrasilAbsoluto.html', config=dict(showLink = False))"
   ]
  },
  {
   "cell_type": "markdown",
   "metadata": {},
   "source": [
    "- Generating plot (relative values)"
   ]
  },
  {
   "cell_type": "code",
   "execution_count": 38,
   "metadata": {},
   "outputs": [
    {
     "data": {
      "text/plain": [
       "'file:///home/breno/proj/roraima-energy-social/Análises/ConsumoBrasilRelativo.html'"
      ]
     },
     "execution_count": 38,
     "metadata": {},
     "output_type": "execute_result"
    }
   ],
   "source": [
    "temp_df = df_br_consumption.copy()\n",
    "for i in list_names_consumption[:-1]:\n",
    "    temp_df[i] = 100*temp_df[i]/temp_df['total']\n",
    "\n",
    "data = []\n",
    "x = temp_df['date']\n",
    "for i in list_names_consumption[:-1]:\n",
    "    trace = go.Scatter(x = x, y = temp_df[i], name = i)\n",
    "    data.append(trace)\n",
    "layout = go.Layout(title = 'Consumo Elétrico Brasil - Eletrobrás',\n",
    "                   yaxis = dict(title = '% do consumo elétrico total'),\n",
    "                   xaxis = dict(type = 'date'))\n",
    "fig = go.Figure(data=data, layout= layout)\n",
    "pyo.plot(fig, filename='/ConsumoBrasilRelativo.html', config=dict(showLink = False))"
   ]
  },
  {
   "cell_type": "markdown",
   "metadata": {},
   "source": [
    "- Generating plot ($\\Delta$ values) - Mensal"
   ]
  },
  {
   "cell_type": "code",
   "execution_count": 40,
   "metadata": {},
   "outputs": [
    {
     "data": {
      "text/plain": [
       "'file:///home/breno/proj/roraima-energy-social/Análises/ConsumoBrasilDeltaMensal.html'"
      ]
     },
     "execution_count": 40,
     "metadata": {},
     "output_type": "execute_result"
    }
   ],
   "source": [
    "temp_df = df_br_consumption.copy()\n",
    "for i in list_names_consumption:\n",
    "    temp_df[i] = 100*temp_df[i]/sum(temp_df[i])\n",
    "\n",
    "temp_df = temp_df.reset_index()\n",
    "for name in list_names_consumption:\n",
    "    temp_df[name] = [0]+[temp_df[name][i]-temp_df[name][i-1] for i in range(1,len(temp_df['comercial']))]\n",
    "    \n",
    "data = []\n",
    "x = temp_df['date']\n",
    "for i in list_names_consumption:\n",
    "    trace = go.Scatter(x = x, y = temp_df[i], name = i)\n",
    "    data.append(trace)\n",
    "layout = go.Layout(title = 'Consumo Elétrico Brasil - Eletrobrás',\n",
    "                   yaxis = dict(title = 'Delta % do consumo elétrico'),\n",
    "                   xaxis = dict(type = 'date'))\n",
    "fig = go.Figure(data=data, layout= layout)\n",
    "pyo.plot(fig, filename='ConsumoBrasilDeltaMensal.html', config=dict(showLink = False))"
   ]
  },
  {
   "cell_type": "markdown",
   "metadata": {},
   "source": [
    "- Generating plot ($\\Delta$ values) - Anual"
   ]
  },
  {
   "cell_type": "code",
   "execution_count": 44,
   "metadata": {},
   "outputs": [
    {
     "data": {
      "text/plain": [
       "'file:///home/breno/proj/roraima-energy-social/Análises/ConsumoBrasilDeltaAnual.html'"
      ]
     },
     "execution_count": 44,
     "metadata": {},
     "output_type": "execute_result"
    }
   ],
   "source": [
    "temp_df = df_br_consumption.copy()\n",
    "temp_df['year'] = temp_df['date'].dt.year\n",
    "temp_df = temp_df.groupby('year').mean()\n",
    "\n",
    "for i in list_names_consumption:\n",
    "    temp_df[i] = 100*temp_df[i]/sum(temp_df[i])\n",
    "\n",
    "temp_df = temp_df.reset_index()\n",
    "for name in list_names_consumption:\n",
    "    temp_df[name] = [0]+[temp_df[name][i]-temp_df[name][i-1] for i in range(1,len(temp_df['comercial']))]\n",
    "    \n",
    "data = []\n",
    "x = temp_df['year']\n",
    "for i in list_names_consumption:\n",
    "    trace = go.Scatter(x = x, y = temp_df[i], name = i)\n",
    "    data.append(trace)\n",
    "layout = go.Layout(title = 'Consumo Elétrico Brasil - Eletrobrás',\n",
    "                   yaxis = dict(title = 'Delta % do consumo elétrico'),\n",
    "                   xaxis = dict(type = 'date'))\n",
    "fig = go.Figure(data=data, layout= layout)\n",
    "pyo.plot(fig, filename='ConsumoBrasilDeltaAnual.html', config=dict(showLink = False))"
   ]
  },
  {
   "cell_type": "markdown",
   "metadata": {},
   "source": [
    "# Comparação séries\n",
    "\n",
    "## $\\Delta$"
   ]
  },
  {
   "cell_type": "code",
   "execution_count": 52,
   "metadata": {},
   "outputs": [
    {
     "data": {
      "text/plain": [
       "'file:///home/breno/proj/roraima-energy-social/Análises/ConsumoComparadoDeltaAnual.html'"
      ]
     },
     "execution_count": 52,
     "metadata": {},
     "output_type": "execute_result"
    }
   ],
   "source": [
    "# Brasil\n",
    "temp_df = df_br_consumption.copy()\n",
    "temp_df['year'] = temp_df['date'].dt.year\n",
    "temp_df = temp_df.groupby('year').mean()\n",
    "\n",
    "for i in list_names_consumption:\n",
    "    temp_df[i+'_brasil'] = 100*temp_df[i]/sum(temp_df[i])\n",
    "\n",
    "temp_df1 = temp_df.reset_index()\n",
    "for name in list_names_consumption:\n",
    "    temp_df1[name+'_brasil'] = [0]+[temp_df1[name+'_brasil'][i]-temp_df1[name+'_brasil'][i-1] for i in range(1,len(temp_df1['comercial']))]\n",
    "    \n",
    "#Norte\n",
    "temp_df = df_consumption.copy()\n",
    "temp_df['year'] = temp_df['date'].dt.year\n",
    "temp_df = temp_df.groupby('year').mean()\n",
    "\n",
    "for i in list_names_consumption:\n",
    "    temp_df[i+'_norte'] = 100*temp_df[i]/sum(temp_df[i])\n",
    "\n",
    "temp_df2 = temp_df.reset_index()\n",
    "for name in list_names_consumption:\n",
    "    temp_df2[name+'_norte'] = [0]+[temp_df2[name+'_norte'][i]-temp_df2[name+'_norte'][i-1] for i in range(1,len(temp_df2[name]))]\n",
    "    \n",
    "    \n",
    "    \n",
    "\n",
    "# Plot config\n",
    "data = []\n",
    "for i_raw in list_names_consumption:\n",
    "    i = i_raw+'_brasil'\n",
    "    x = temp_df1['year']\n",
    "    trace = go.Scatter(x = x, y = temp_df1[i], name = i)\n",
    "    data.append(trace)\n",
    "    \n",
    "for i_raw in list_names_consumption:\n",
    "    i = i_raw+'_norte'\n",
    "    x = temp_df2['year']\n",
    "    trace = go.Scatter(x = x, y = temp_df2[i], name = i)\n",
    "    data.append(trace)\n",
    "    \n",
    "layout = go.Layout(title = 'Consumo Elétrico Comparação - Eletrobrás',\n",
    "                   yaxis = dict(title = 'Delta % do consumo elétrico'),\n",
    "                   xaxis = dict(type = 'date'))\n",
    "fig = go.Figure(data=data, layout= layout)\n",
    "pyo.plot(fig, filename='ConsumoComparadoDeltaAnual.html', config=dict(showLink = False))"
   ]
  },
  {
   "cell_type": "code",
   "execution_count": null,
   "metadata": {},
   "outputs": [],
   "source": []
  }
 ],
 "metadata": {
  "kernelspec": {
   "display_name": "Python 3",
   "language": "python",
   "name": "python3"
  },
  "language_info": {
   "codemirror_mode": {
    "name": "ipython",
    "version": 3
   },
   "file_extension": ".py",
   "mimetype": "text/x-python",
   "name": "python",
   "nbconvert_exporter": "python",
   "pygments_lexer": "ipython3",
   "version": "3.6.5"
  }
 },
 "nbformat": 4,
 "nbformat_minor": 2
}
