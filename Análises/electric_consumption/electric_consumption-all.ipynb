{
 "cells": [
  {
   "cell_type": "code",
   "execution_count": 1,
   "metadata": {},
   "outputs": [
    {
     "data": {
      "text/html": [
       "<script>requirejs.config({paths: { 'plotly': ['https://cdn.plot.ly/plotly-latest.min']},});if(!window.Plotly) {{require(['plotly'],function(plotly) {window.Plotly=plotly;});}}</script>"
      ],
      "text/vnd.plotly.v1+html": [
       "<script>requirejs.config({paths: { 'plotly': ['https://cdn.plot.ly/plotly-latest.min']},});if(!window.Plotly) {{require(['plotly'],function(plotly) {window.Plotly=plotly;});}}</script>"
      ]
     },
     "metadata": {},
     "output_type": "display_data"
    }
   ],
   "source": [
    "import pandas as pd\n",
    "import numpy as np\n",
    "import plotly.offline as pyo\n",
    "import plotly.graph_objs as go\n",
    "pyo.init_notebook_mode(connected=True)"
   ]
  },
  {
   "cell_type": "code",
   "execution_count": 2,
   "metadata": {},
   "outputs": [],
   "source": [
    "path = '/home/breno/proj/roraima-energy-social'"
   ]
  },
  {
   "cell_type": "markdown",
   "metadata": {},
   "source": [
    "# Análise séries - Consumo Elétrico"
   ]
  },
  {
   "cell_type": "code",
   "execution_count": 15,
   "metadata": {},
   "outputs": [],
   "source": [
    "df_br_consumption.to_csv(path+'/BRASIL/data/electricity_consumption_brasilELETROBRAS.csv')\n",
    "df_consumption.to_csv(path+'/NORTE/data/electricity_consumption_norteELETROBRAS.csv')\n",
    "df_roraima_consumption = pd.read_csv(path+'/RORAIMA/data/electricity_consumption_roraimaEPE.csv', index_col=0)\n",
    "\n",
    "df_roraima_consumption.columns = ['total', 'residencial', 'industrial', 'comercial', 'other', 'date']"
   ]
  },
  {
   "cell_type": "markdown",
   "metadata": {},
   "source": [
    "## NORTE - Plots\n",
    "\n",
    "- Generating plot (absolute values)"
   ]
  },
  {
   "cell_type": "code",
   "execution_count": 36,
   "metadata": {},
   "outputs": [
    {
     "data": {
      "text/plain": [
       "'file:///home/breno/proj/roraima-energy-socialConsumoNorteAbsoluto.html'"
      ]
     },
     "execution_count": 36,
     "metadata": {},
     "output_type": "execute_result"
    }
   ],
   "source": [
    "data = []\n",
    "x = df_consumption['date']\n",
    "for i in list_names_consumption:\n",
    "    trace = go.Scatter(x = x, y = df_consumption[i], name = i)\n",
    "    data.append(trace)\n",
    "layout = go.Layout(title = 'Consumo Elétrico Região Norte - Eletrobrás',\n",
    "                   yaxis = dict(title = 'Energia em GWh'),\n",
    "                   xaxis = dict(type = 'date'))\n",
    "fig = go.Figure(data=data, layout= layout)\n",
    "pyo.plot(fig, filename=path+'ConsumoNorteAbsoluto.html', config=dict(showLink = False))"
   ]
  },
  {
   "cell_type": "markdown",
   "metadata": {},
   "source": [
    "- Generating plot (relative values)"
   ]
  },
  {
   "cell_type": "code",
   "execution_count": 29,
   "metadata": {},
   "outputs": [
    {
     "data": {
      "text/plain": [
       "'file:///home/breno/proj/roraima-energy-social/Análises/ConsumoNorteRelativo.html'"
      ]
     },
     "execution_count": 29,
     "metadata": {},
     "output_type": "execute_result"
    }
   ],
   "source": [
    "temp_df = df_consumption.copy()\n",
    "for i in list_names_consumption[:-1]:\n",
    "    temp_df[i] = 100*temp_df[i]/temp_df['total']\n",
    "\n",
    "data = []\n",
    "x = temp_df['date']\n",
    "for i in list_names_consumption[:-1]:\n",
    "    trace = go.Scatter(x = x, y = temp_df[i], name = i)\n",
    "    data.append(trace)\n",
    "layout = go.Layout(title = 'Consumo Elétrico Região Norte - Eletrobrás',\n",
    "                   yaxis = dict(title = '% do consumo elétrico total'),\n",
    "                   xaxis = dict(type = 'date'))\n",
    "fig = go.Figure(data=data, layout= layout)\n",
    "pyo.plot(fig, filename='ConsumoNorteRelativo.html', config=dict(showLink = False))"
   ]
  },
  {
   "cell_type": "markdown",
   "metadata": {},
   "source": [
    "- Generating plot ($\\Delta$ values) - Mensal"
   ]
  },
  {
   "cell_type": "code",
   "execution_count": 41,
   "metadata": {},
   "outputs": [
    {
     "data": {
      "text/plain": [
       "'file:///home/breno/proj/roraima-energy-social/Análises/ConsumoNorteDeltaMensal.html'"
      ]
     },
     "execution_count": 41,
     "metadata": {},
     "output_type": "execute_result"
    }
   ],
   "source": [
    "temp_df = df_consumption.copy()\n",
    "for i in list_names_consumption:\n",
    "    temp_df[i] = 100*temp_df[i]/sum(temp_df[i])\n",
    "\n",
    "temp_df = temp_df.reset_index()\n",
    "for name in list_names_consumption:\n",
    "    temp_df[name] = [0]+[temp_df[name][i]-temp_df[name][i-1] for i in range(1,len(temp_df['comercial']))]\n",
    "    \n",
    "data = []\n",
    "x = temp_df['date']\n",
    "for i in list_names_consumption:\n",
    "    trace = go.Scatter(x = x, y = temp_df[i], name = i)\n",
    "    data.append(trace)\n",
    "layout = go.Layout(title = 'Consumo Elétrico Região Norte - Eletrobrás',\n",
    "                   yaxis = dict(title = 'Delta % do consumo elétrico'),\n",
    "                   xaxis = dict(type = 'date'))\n",
    "fig = go.Figure(data=data, layout= layout)\n",
    "pyo.plot(fig, filename='ConsumoNorteDeltaMensal.html', config=dict(showLink = False))"
   ]
  },
  {
   "cell_type": "markdown",
   "metadata": {},
   "source": [
    "- Generating plot ($\\Delta$ values) - Anual"
   ]
  },
  {
   "cell_type": "code",
   "execution_count": 43,
   "metadata": {},
   "outputs": [
    {
     "data": {
      "text/plain": [
       "'file:///home/breno/proj/roraima-energy-social/Análises/ConsumoNorteDeltaAnual.html'"
      ]
     },
     "execution_count": 43,
     "metadata": {},
     "output_type": "execute_result"
    }
   ],
   "source": [
    "temp_df = df_consumption.copy()\n",
    "temp_df['year'] = temp_df['date'].dt.year\n",
    "temp_df = temp_df.groupby('year').mean()\n",
    "\n",
    "for i in list_names_consumption:\n",
    "    temp_df[i] = 100*temp_df[i]/sum(temp_df[i])\n",
    "\n",
    "temp_df = temp_df.reset_index()\n",
    "for name in list_names_consumption:\n",
    "    temp_df[name] = [0]+[temp_df[name][i]-temp_df[name][i-1] for i in range(1,len(temp_df['comercial']))]\n",
    "    \n",
    "data = []\n",
    "x = temp_df['year']\n",
    "for i in list_names_consumption:\n",
    "    trace = go.Scatter(x = x, y = temp_df[i], name = i)\n",
    "    data.append(trace)\n",
    "layout = go.Layout(title = 'Consumo Elétrico Região Norte - Eletrobrás',\n",
    "                   yaxis = dict(title = 'Delta % do consumo elétrico'),\n",
    "                   xaxis = dict(type = 'date'))\n",
    "fig = go.Figure(data=data, layout= layout)\n",
    "pyo.plot(fig, filename='ConsumoNorteDeltaAnual.html', config=dict(showLink = False))"
   ]
  },
  {
   "cell_type": "markdown",
   "metadata": {},
   "source": [
    "## BRASIL - Plots"
   ]
  },
  {
   "cell_type": "markdown",
   "metadata": {},
   "source": [
    "- Generating plot (absolute values)"
   ]
  },
  {
   "cell_type": "code",
   "execution_count": 53,
   "metadata": {},
   "outputs": [
    {
     "data": {
      "text/plain": [
       "'file:///home/breno/proj/roraima-energy-social/Análises/ConsumoBrasilAbsoluto.html'"
      ]
     },
     "execution_count": 53,
     "metadata": {},
     "output_type": "execute_result"
    }
   ],
   "source": [
    "data = []\n",
    "x = df_br_consumption['date']\n",
    "for i in list_names_consumption:\n",
    "    trace = go.Scatter(x = x, y = df_br_consumption[i], name = i)\n",
    "    data.append(trace)\n",
    "layout = go.Layout(title = 'Consumo Elétrico Brasil - Eletrobrás',\n",
    "                   yaxis = dict(title = 'Energia em GWh'),\n",
    "                   xaxis = dict(type = 'date'))\n",
    "fig = go.Figure(data=data, layout= layout)\n",
    "pyo.plot(fig, filename='ConsumoBrasilAbsoluto.html', config=dict(showLink = False))"
   ]
  },
  {
   "cell_type": "markdown",
   "metadata": {},
   "source": [
    "- Generating plot (relative values)"
   ]
  },
  {
   "cell_type": "code",
   "execution_count": 38,
   "metadata": {},
   "outputs": [
    {
     "data": {
      "text/plain": [
       "'file:///home/breno/proj/roraima-energy-social/Análises/ConsumoBrasilRelativo.html'"
      ]
     },
     "execution_count": 38,
     "metadata": {},
     "output_type": "execute_result"
    }
   ],
   "source": [
    "temp_df = df_br_consumption.copy()\n",
    "for i in list_names_consumption[:-1]:\n",
    "    temp_df[i] = 100*temp_df[i]/temp_df['total']\n",
    "\n",
    "data = []\n",
    "x = temp_df['date']\n",
    "for i in list_names_consumption[:-1]:\n",
    "    trace = go.Scatter(x = x, y = temp_df[i], name = i)\n",
    "    data.append(trace)\n",
    "layout = go.Layout(title = 'Consumo Elétrico Brasil - Eletrobrás',\n",
    "                   yaxis = dict(title = '% do consumo elétrico total'),\n",
    "                   xaxis = dict(type = 'date'))\n",
    "fig = go.Figure(data=data, layout= layout)\n",
    "pyo.plot(fig, filename='/ConsumoBrasilRelativo.html', config=dict(showLink = False))"
   ]
  },
  {
   "cell_type": "markdown",
   "metadata": {},
   "source": [
    "- Generating plot ($\\Delta$ values) - Mensal"
   ]
  },
  {
   "cell_type": "code",
   "execution_count": 40,
   "metadata": {},
   "outputs": [
    {
     "data": {
      "text/plain": [
       "'file:///home/breno/proj/roraima-energy-social/Análises/ConsumoBrasilDeltaMensal.html'"
      ]
     },
     "execution_count": 40,
     "metadata": {},
     "output_type": "execute_result"
    }
   ],
   "source": [
    "temp_df = df_br_consumption.copy()\n",
    "for i in list_names_consumption:\n",
    "    temp_df[i] = 100*temp_df[i]/sum(temp_df[i])\n",
    "\n",
    "temp_df = temp_df.reset_index()\n",
    "for name in list_names_consumption:\n",
    "    temp_df[name] = [0]+[temp_df[name][i]-temp_df[name][i-1] for i in range(1,len(temp_df['comercial']))]\n",
    "    \n",
    "data = []\n",
    "x = temp_df['date']\n",
    "for i in list_names_consumption:\n",
    "    trace = go.Scatter(x = x, y = temp_df[i], name = i)\n",
    "    data.append(trace)\n",
    "layout = go.Layout(title = 'Consumo Elétrico Brasil - Eletrobrás',\n",
    "                   yaxis = dict(title = 'Delta % do consumo elétrico'),\n",
    "                   xaxis = dict(type = 'date'))\n",
    "fig = go.Figure(data=data, layout= layout)\n",
    "pyo.plot(fig, filename='ConsumoBrasilDeltaMensal.html', config=dict(showLink = False))"
   ]
  },
  {
   "cell_type": "markdown",
   "metadata": {},
   "source": [
    "- Generating plot ($\\Delta$ values) - Anual"
   ]
  },
  {
   "cell_type": "code",
   "execution_count": 44,
   "metadata": {},
   "outputs": [
    {
     "data": {
      "text/plain": [
       "'file:///home/breno/proj/roraima-energy-social/Análises/ConsumoBrasilDeltaAnual.html'"
      ]
     },
     "execution_count": 44,
     "metadata": {},
     "output_type": "execute_result"
    }
   ],
   "source": [
    "temp_df = df_br_consumption.copy()\n",
    "temp_df['year'] = temp_df['date'].dt.year\n",
    "temp_df = temp_df.groupby('year').mean()\n",
    "\n",
    "for i in list_names_consumption:\n",
    "    temp_df[i] = 100*temp_df[i]/sum(temp_df[i])\n",
    "\n",
    "temp_df = temp_df.reset_index()\n",
    "for name in list_names_consumption:\n",
    "    temp_df[name] = [0]+[temp_df[name][i]-temp_df[name][i-1] for i in range(1,len(temp_df['comercial']))]\n",
    "    \n",
    "data = []\n",
    "x = temp_df['year']\n",
    "for i in list_names_consumption:\n",
    "    trace = go.Scatter(x = x, y = temp_df[i], name = i)\n",
    "    data.append(trace)\n",
    "layout = go.Layout(title = 'Consumo Elétrico Brasil - Eletrobrás',\n",
    "                   yaxis = dict(title = 'Delta % do consumo elétrico'),\n",
    "                   xaxis = dict(type = 'date'))\n",
    "fig = go.Figure(data=data, layout= layout)\n",
    "pyo.plot(fig, filename='ConsumoBrasilDeltaAnual.html', config=dict(showLink = False))"
   ]
  },
  {
   "cell_type": "markdown",
   "metadata": {},
   "source": [
    "## RORAIMA - Plots\n",
    "\n",
    "- Generating plot (absolute values)"
   ]
  },
  {
   "cell_type": "code",
   "execution_count": 22,
   "metadata": {},
   "outputs": [
    {
     "data": {
      "text/plain": [
       "'file:///home/breno/proj/roraima-energy-social/Análises/ConsumoRoraimaAbsoluto.html'"
      ]
     },
     "execution_count": 22,
     "metadata": {},
     "output_type": "execute_result"
    }
   ],
   "source": [
    "data = []\n",
    "x = df_roraima_consumption['date']\n",
    "for i in list_names_consumption:\n",
    "    trace = go.Scatter(x = x, y = df_roraima_consumption[i], name = i)\n",
    "    data.append(trace)\n",
    "layout = go.Layout(title = 'Consumo Elétrico RORAIMA - EPE',\n",
    "                   yaxis = dict(title = 'Energia em MWh'),\n",
    "                   xaxis = dict(type = 'date'))\n",
    "fig = go.Figure(data=data, layout= layout)\n",
    "pyo.plot(fig, filename='ConsumoRoraimaAbsoluto.html', config=dict(showLink = False))"
   ]
  },
  {
   "cell_type": "markdown",
   "metadata": {},
   "source": [
    "- Generating plot (relative values)"
   ]
  },
  {
   "cell_type": "code",
   "execution_count": 24,
   "metadata": {},
   "outputs": [
    {
     "data": {
      "text/plain": [
       "'file:///home/breno/proj/roraima-energy-social/ConsumoRoraimaRelativo.html'"
      ]
     },
     "execution_count": 24,
     "metadata": {},
     "output_type": "execute_result"
    }
   ],
   "source": [
    "temp_df = df_roraima_consumption.copy()\n",
    "for i in list_names_consumption[:-1]:\n",
    "    temp_df[i] = 100*temp_df[i]/temp_df['total']\n",
    "\n",
    "data = []\n",
    "x = temp_df['date']\n",
    "for i in list_names_consumption[:-1]:\n",
    "    trace = go.Scatter(x = x, y = temp_df[i], name = i)\n",
    "    data.append(trace)\n",
    "layout = go.Layout(title = 'Consumo Elétrico RORAIMA - EPE',\n",
    "                   yaxis = dict(title = '% do consumo elétrico total'),\n",
    "                   xaxis = dict(type = 'date'))\n",
    "fig = go.Figure(data=data, layout= layout)\n",
    "pyo.plot(fig, filename=path+'/ConsumoRoraimaRelativo.html', config=dict(showLink = False))"
   ]
  },
  {
   "cell_type": "markdown",
   "metadata": {},
   "source": [
    "- Generating plot ($\\Delta$ values) - Mensal"
   ]
  },
  {
   "cell_type": "code",
   "execution_count": 25,
   "metadata": {},
   "outputs": [
    {
     "data": {
      "text/plain": [
       "'file:///home/breno/proj/roraima-energy-social\\\\ConsumoRoraimaDeltaMensal.html'"
      ]
     },
     "execution_count": 25,
     "metadata": {},
     "output_type": "execute_result"
    }
   ],
   "source": [
    "temp_df = df_roraima_consumption.copy()\n",
    "for i in list_names_consumption:\n",
    "    temp_df[i] = 100*temp_df[i]/sum(temp_df[i])\n",
    "\n",
    "temp_df = temp_df.reset_index()\n",
    "for name in list_names_consumption:\n",
    "    temp_df[name] = [0]+[temp_df[name][i]-temp_df[name][i-1] for i in range(1,len(temp_df['comercial']))]\n",
    "    \n",
    "data = []\n",
    "x = temp_df['date']\n",
    "for i in list_names_consumption:\n",
    "    trace = go.Scatter(x = x, y = temp_df[i], name = i)\n",
    "    data.append(trace)\n",
    "layout = go.Layout(title = 'Consumo Elétrico RORAIMA - EPE',\n",
    "                   yaxis = dict(title = 'Delta % do consumo elétrico'),\n",
    "                   xaxis = dict(type = 'date'))\n",
    "fig = go.Figure(data=data, layout= layout)\n",
    "pyo.plot(fig, filename=path+'\\ConsumoRoraimaDeltaMensal.html', config=dict(showLink = False))"
   ]
  },
  {
   "cell_type": "markdown",
   "metadata": {},
   "source": [
    "- Generating plot ($\\Delta$ values) - Anual"
   ]
  },
  {
   "cell_type": "code",
   "execution_count": 28,
   "metadata": {},
   "outputs": [
    {
     "data": {
      "text/plain": [
       "'file:///home/breno/proj/roraima-energy-social/ConsumoRoraimaDeltaAnual.html'"
      ]
     },
     "execution_count": 28,
     "metadata": {},
     "output_type": "execute_result"
    }
   ],
   "source": [
    "temp_df = df_roraima_consumption.copy()\n",
    "temp_df['date'] = pd.DatetimeIndex(temp_df['date'])\n",
    "temp_df['year'] = temp_df['date'].dt.year\n",
    "temp_df = temp_df.groupby('year').mean()\n",
    "\n",
    "for i in list_names_consumption:\n",
    "    temp_df[i] = 100*temp_df[i]/sum(temp_df[i])\n",
    "\n",
    "temp_df = temp_df.reset_index()\n",
    "for name in list_names_consumption:\n",
    "    temp_df[name] = [0]+[temp_df[name][i]-temp_df[name][i-1] for i in range(1,len(temp_df['comercial']))]\n",
    "    \n",
    "data = []\n",
    "x = temp_df['year']\n",
    "for i in list_names_consumption:\n",
    "    trace = go.Scatter(x = x, y = temp_df[i], name = i)\n",
    "    data.append(trace)\n",
    "layout = go.Layout(title = 'Consumo Elétrico RORAIMA - EPE',\n",
    "                   yaxis = dict(title = 'Delta % do consumo elétrico'),\n",
    "                   xaxis = dict(type = 'date'))\n",
    "fig = go.Figure(data=data, layout= layout)\n",
    "pyo.plot(fig, filename=path+'/ConsumoRoraimaDeltaAnual.html', config=dict(showLink = False))"
   ]
  },
  {
   "cell_type": "markdown",
   "metadata": {},
   "source": [
    "# Comparação séries\n",
    "\n",
    "## $\\Delta$"
   ]
  },
  {
   "cell_type": "code",
   "execution_count": 34,
   "metadata": {},
   "outputs": [
    {
     "data": {
      "text/plain": [
       "'file:///home/breno/proj/roraima-energy-social/Análises/ConsumoComparadoDeltaAnual.html'"
      ]
     },
     "execution_count": 34,
     "metadata": {},
     "output_type": "execute_result"
    }
   ],
   "source": [
    "# Brasil\n",
    "temp_df = df_br_consumption.copy()\n",
    "temp_df['year'] = temp_df['date'].dt.year\n",
    "temp_df = temp_df.groupby('year').mean()\n",
    "\n",
    "for i in list_names_consumption:\n",
    "    temp_df[i+'_brasil'] = 100*temp_df[i]/sum(temp_df[i])\n",
    "\n",
    "temp_df1 = temp_df.reset_index()\n",
    "for name in list_names_consumption:\n",
    "    temp_df1[name+'_brasil'] = [0]+[temp_df1[name+'_brasil'][i]-temp_df1[name+'_brasil'][i-1] for i in range(1,len(temp_df1['comercial']))]\n",
    "    \n",
    "#Norte\n",
    "temp_df = df_consumption.copy()\n",
    "temp_df['year'] = temp_df['date'].dt.year\n",
    "temp_df = temp_df.groupby('year').mean()\n",
    "\n",
    "for i in list_names_consumption:\n",
    "    temp_df[i+'_norte'] = 100*temp_df[i]/sum(temp_df[i])\n",
    "\n",
    "temp_df2 = temp_df.reset_index()\n",
    "for name in list_names_consumption:\n",
    "    temp_df2[name+'_norte'] = [0]+[temp_df2[name+'_norte'][i]-temp_df2[name+'_norte'][i-1] for i in range(1,len(temp_df2[name]))]\n",
    "    \n",
    "    \n",
    "#Roraima\n",
    "temp_df = df_roraima_consumption.copy()\n",
    "temp_df['date'] = pd.DatetimeIndex(temp_df['date'])\n",
    "temp_df['year'] = temp_df['date'].dt.year\n",
    "temp_df = temp_df.groupby('year').mean()\n",
    "\n",
    "for i in list_names_consumption:\n",
    "    temp_df[i+'_RR'] = 100*temp_df[i]/sum(temp_df[i])\n",
    "\n",
    "temp_df3 = temp_df.reset_index()\n",
    "for name in list_names_consumption:\n",
    "    temp_df3[name+'_RR'] = [0]+[temp_df3[name+'_RR'][i]-temp_df3[name+'_RR'][i-1] for i in range(1,len(temp_df3[name]))]\n",
    "    \n",
    "    \n",
    "    \n",
    "\n",
    "# Plot config\n",
    "data = []\n",
    "for i_raw in list_names_consumption:\n",
    "    i = i_raw+'_brasil'\n",
    "    x = temp_df1['year']\n",
    "    trace = go.Scatter(x = x, y = temp_df1[i], name = i)\n",
    "    data.append(trace)\n",
    "    \n",
    "for i_raw in list_names_consumption:\n",
    "    i = i_raw+'_norte'\n",
    "    x = temp_df2['year']\n",
    "    trace = go.Scatter(x = x, y = temp_df2[i], name = i)\n",
    "    data.append(trace)\n",
    "\n",
    "for i_raw in list_names_consumption:\n",
    "    i = i_raw+'_RR'\n",
    "    x = temp_df3['year']\n",
    "    trace = go.Scatter(x = x, y = temp_df3[i], name = i, line = dict(dash='dot'), mode ='lines')\n",
    "    data.append(trace)\n",
    "    \n",
    "layout = go.Layout(title = 'Consumo Elétrico Comparação - Eletrobrás e EPE',\n",
    "                   yaxis = dict(title = 'Delta % do consumo elétrico'),\n",
    "                   xaxis = dict(type = 'date'))\n",
    "fig = go.Figure(data=data, layout= layout)\n",
    "pyo.plot(fig, filename='ConsumoComparadoDeltaAnual.html', config=dict(showLink = False))"
   ]
  },
  {
   "cell_type": "code",
   "execution_count": null,
   "metadata": {},
   "outputs": [],
   "source": []
  }
 ],
 "metadata": {
  "kernelspec": {
   "display_name": "Python 3",
   "language": "python",
   "name": "python3"
  },
  "language_info": {
   "codemirror_mode": {
    "name": "ipython",
    "version": 3
   },
   "file_extension": ".py",
   "mimetype": "text/x-python",
   "name": "python",
   "nbconvert_exporter": "python",
   "pygments_lexer": "ipython3",
   "version": "3.6.5"
  }
 },
 "nbformat": 4,
 "nbformat_minor": 2
}
