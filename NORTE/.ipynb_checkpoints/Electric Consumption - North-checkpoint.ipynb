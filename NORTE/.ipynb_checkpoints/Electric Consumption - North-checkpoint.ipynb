{
 "cells": [
  {
   "cell_type": "code",
   "execution_count": 1,
   "metadata": {},
   "outputs": [
    {
     "data": {
      "text/html": [
       "<script>requirejs.config({paths: { 'plotly': ['https://cdn.plot.ly/plotly-latest.min']},});if(!window.Plotly) {{require(['plotly'],function(plotly) {window.Plotly=plotly;});}}</script>"
      ],
      "text/vnd.plotly.v1+html": [
       "<script>requirejs.config({paths: { 'plotly': ['https://cdn.plot.ly/plotly-latest.min']},});if(!window.Plotly) {{require(['plotly'],function(plotly) {window.Plotly=plotly;});}}</script>"
      ]
     },
     "metadata": {},
     "output_type": "display_data"
    }
   ],
   "source": [
    "import pandas as pd\n",
    "import numpy as np\n",
    "import plotly.offline as pyo\n",
    "import plotly.graph_objs as go\n",
    "pyo.init_notebook_mode(connected=True)"
   ]
  },
  {
   "cell_type": "markdown",
   "metadata": {},
   "source": [
    "# Análise séries Região Norte"
   ]
  },
  {
   "cell_type": "code",
   "execution_count": 2,
   "metadata": {},
   "outputs": [],
   "source": [
    "df_index = pd.read_csv('NORTH.csv', encoding='latin1',index_col=0)"
   ]
  },
  {
   "cell_type": "code",
   "execution_count": 3,
   "metadata": {},
   "outputs": [
    {
     "data": {
      "text/html": [
       "<div>\n",
       "<style scoped>\n",
       "    .dataframe tbody tr th:only-of-type {\n",
       "        vertical-align: middle;\n",
       "    }\n",
       "\n",
       "    .dataframe tbody tr th {\n",
       "        vertical-align: top;\n",
       "    }\n",
       "\n",
       "    .dataframe thead th {\n",
       "        text-align: right;\n",
       "    }\n",
       "</style>\n",
       "<table border=\"1\" class=\"dataframe\">\n",
       "  <thead>\n",
       "    <tr style=\"text-align: right;\">\n",
       "      <th></th>\n",
       "      <th>code</th>\n",
       "      <th>description</th>\n",
       "    </tr>\n",
       "  </thead>\n",
       "  <tbody>\n",
       "    <tr>\n",
       "      <th>4</th>\n",
       "      <td>1407</td>\n",
       "      <td>Electric energy consumption - Northern region ...</td>\n",
       "    </tr>\n",
       "    <tr>\n",
       "      <th>5</th>\n",
       "      <td>1408</td>\n",
       "      <td>Electric energy consumption - Northern region ...</td>\n",
       "    </tr>\n",
       "    <tr>\n",
       "      <th>6</th>\n",
       "      <td>14083</td>\n",
       "      <td>Balance of National Financial System credit op...</td>\n",
       "    </tr>\n",
       "    <tr>\n",
       "      <th>8</th>\n",
       "      <td>14088</td>\n",
       "      <td>Balance of National Financial System credit op...</td>\n",
       "    </tr>\n",
       "    <tr>\n",
       "      <th>9</th>\n",
       "      <td>1409</td>\n",
       "      <td>Electric energy consumption - Northern region ...</td>\n",
       "    </tr>\n",
       "    <tr>\n",
       "      <th>10</th>\n",
       "      <td>14093</td>\n",
       "      <td>Balance of National Financial System credit op...</td>\n",
       "    </tr>\n",
       "    <tr>\n",
       "      <th>12</th>\n",
       "      <td>1410</td>\n",
       "      <td>Electric energy consumption - Northern region ...</td>\n",
       "    </tr>\n",
       "    <tr>\n",
       "      <th>13</th>\n",
       "      <td>1411</td>\n",
       "      <td>Electric energy consumption - Northern region ...</td>\n",
       "    </tr>\n",
       "    <tr>\n",
       "      <th>19</th>\n",
       "      <td>15135</td>\n",
       "      <td>Borrowing requirements of North Region States ...</td>\n",
       "    </tr>\n",
       "    <tr>\n",
       "      <th>21</th>\n",
       "      <td>15140</td>\n",
       "      <td>Borrowing requirements of North Region States ...</td>\n",
       "    </tr>\n",
       "  </tbody>\n",
       "</table>\n",
       "</div>"
      ],
      "text/plain": [
       "     code                                        description\n",
       "4    1407  Electric energy consumption - Northern region ...\n",
       "5    1408  Electric energy consumption - Northern region ...\n",
       "6   14083  Balance of National Financial System credit op...\n",
       "8   14088  Balance of National Financial System credit op...\n",
       "9    1409  Electric energy consumption - Northern region ...\n",
       "10  14093  Balance of National Financial System credit op...\n",
       "12   1410  Electric energy consumption - Northern region ...\n",
       "13   1411  Electric energy consumption - Northern region ...\n",
       "19  15135  Borrowing requirements of North Region States ...\n",
       "21  15140  Borrowing requirements of North Region States ..."
      ]
     },
     "execution_count": 3,
     "metadata": {},
     "output_type": "execute_result"
    }
   ],
   "source": [
    "df_index[['code','description']].head(10)"
   ]
  },
  {
   "cell_type": "markdown",
   "metadata": {},
   "source": [
    "### 1. Estudo consumo de eletricidade"
   ]
  },
  {
   "cell_type": "code",
   "execution_count": 4,
   "metadata": {},
   "outputs": [],
   "source": [
    "commercial_consumption = pd.read_csv('./data/1407.csv', index_col=0)\n",
    "residential_consumption = pd.read_csv('./data/1408.csv', index_col=0)\n",
    "industrial_consumption = pd.read_csv('./data/1409.csv', index_col=0)\n",
    "other_consumption = pd.read_csv('./data/1410.csv', index_col=0)\n",
    "total_consumption = pd.read_csv('./data/1411.csv', index_col=0)"
   ]
  },
  {
   "cell_type": "code",
   "execution_count": 5,
   "metadata": {},
   "outputs": [],
   "source": [
    "list_consumption = [commercial_consumption, residential_consumption, industrial_consumption, other_consumption, total_consumption]\n",
    "list_names_consumption = ['comercial', 'residencial', 'industrial', 'other','total']"
   ]
  },
  {
   "cell_type": "markdown",
   "metadata": {},
   "source": [
    "- Todos tem o mesmo periodo?"
   ]
  },
  {
   "cell_type": "code",
   "execution_count": 6,
   "metadata": {},
   "outputs": [
    {
     "name": "stdout",
     "output_type": "stream",
     "text": [
      "COMERCIAL\n",
      "Max date: 2019-01-01\n",
      "Min date: 1980-01-01 \n",
      "\n",
      "RESIDENCIAL\n",
      "Max date: 2019-01-01\n",
      "Min date: 1980-01-01 \n",
      "\n",
      "INDUSTRIAL\n",
      "Max date: 2019-01-01\n",
      "Min date: 1980-01-01 \n",
      "\n",
      "OTHER\n",
      "Max date: 2019-01-01\n",
      "Min date: 1980-01-01 \n",
      "\n",
      "TOTAL\n",
      "Max date: 2019-01-01\n",
      "Min date: 1980-01-01 \n",
      "\n"
     ]
    }
   ],
   "source": [
    "for i in range(len(list_consumption)):\n",
    "    print(list_names_consumption[i].upper())\n",
    "    print('Max date:', list_consumption[i]['date'].max())\n",
    "    print('Min date:', list_consumption[i]['date'].min(), '\\n')"
   ]
  },
  {
   "cell_type": "markdown",
   "metadata": {},
   "source": [
    "- Criando um dataFrame unificado"
   ]
  },
  {
   "cell_type": "code",
   "execution_count": 7,
   "metadata": {},
   "outputs": [],
   "source": [
    "df_consumption = pd.DataFrame(columns=['date']+list_names_consumption)\n",
    "df_consumption['date'] = commercial_consumption['date']\n",
    "for i in range(len(list_consumption)):\n",
    "    df_consumption[list_names_consumption[i]] = list_consumption[i]['value']\n",
    "    \n",
    "df_consumption['date'] = pd.DatetimeIndex(df_consumption['date'])"
   ]
  },
  {
   "cell_type": "markdown",
   "metadata": {},
   "source": [
    "- Generating plot (absolute values)"
   ]
  },
  {
   "cell_type": "code",
   "execution_count": 8,
   "metadata": {},
   "outputs": [],
   "source": [
    "data = []\n",
    "x = df_consumption['date']\n",
    "for i in list_names_consumption:\n",
    "    trace = go.Scatter(x = x, y = df_consumption[i], name = i)\n",
    "    data.append(trace)\n",
    "layout = go.Layout(title = 'Consumo Elétrico Região Norte - Eletrobrás',\n",
    "                   yaxis = dict(title = 'Energia em GWh'),\n",
    "                   xaxis = dict(type = 'date'))\n",
    "fig = go.Figure(data=data, layout= layout)\n",
    "pyo.plot(fig, filename='ConsumoNorteAbsoluto.html', config=dict(showLink = False))"
   ]
  },
  {
   "cell_type": "markdown",
   "metadata": {},
   "source": [
    "- Generating plot (relative values)"
   ]
  },
  {
   "cell_type": "code",
   "execution_count": 74,
   "metadata": {},
   "outputs": [
    {
     "data": {
      "text/plain": [
       "'file:///home/breno/proj/BETS/NORTE/plots/ConsumoNorteRelativo.html'"
      ]
     },
     "execution_count": 74,
     "metadata": {},
     "output_type": "execute_result"
    }
   ],
   "source": [
    "temp_df = df_consumption.copy()\n",
    "for i in list_names_consumption[:-1]:\n",
    "    temp_df[i] = 100*temp_df[i]/temp_df['total']\n",
    "\n",
    "data = []\n",
    "x = temp_df['date']\n",
    "for i in list_names_consumption[:-1]:\n",
    "    trace = go.Scatter(x = x, y = temp_df[i], name = i)\n",
    "    data.append(trace)\n",
    "layout = go.Layout(title = 'Consumo Elétrico Região Norte - Eletrobrás',\n",
    "                   yaxis = dict(title = '% do consumo elétrico total'),\n",
    "                   xaxis = dict(type = 'date'))\n",
    "fig = go.Figure(data=data, layout= layout)\n",
    "pyo.plot(fig, filename='./plots/ConsumoNorteRelativo.html', config=dict(showLink = False))"
   ]
  },
  {
   "cell_type": "markdown",
   "metadata": {},
   "source": [
    "- Generating plot ($\\Delta$ values) - Mensal"
   ]
  },
  {
   "cell_type": "code",
   "execution_count": 119,
   "metadata": {},
   "outputs": [
    {
     "data": {
      "text/plain": [
       "'file:///home/breno/proj/BETS/NORTE/plots/ConsumoNorteDeltaMensal.html'"
      ]
     },
     "execution_count": 119,
     "metadata": {},
     "output_type": "execute_result"
    }
   ],
   "source": [
    "temp_df = df_consumption.copy()\n",
    "for i in list_names_consumption[:-1]:\n",
    "    temp_df[i] = 100*temp_df[i]/temp_df['total']\n",
    "\n",
    "temp_df = temp_df.reset_index()\n",
    "for name in list_names_consumption:\n",
    "    temp_df[name] = [0]+[temp_df[name][i]-temp_df[name][i-1] for i in range(1,len(temp_df['comercial']))]\n",
    "    \n",
    "data = []\n",
    "x = temp_df['date']\n",
    "for i in list_names_consumption:\n",
    "    trace = go.Scatter(x = x, y = temp_df[i], name = i)\n",
    "    data.append(trace)\n",
    "layout = go.Layout(title = 'Consumo Elétrico Região Norte - Eletrobrás',\n",
    "                   yaxis = dict(title = 'Delta % do consumo elétrico'),\n",
    "                   xaxis = dict(type = 'date'))\n",
    "fig = go.Figure(data=data, layout= layout)\n",
    "pyo.plot(fig, filename='./plots/ConsumoNorteDeltaMensal.html', config=dict(showLink = False))"
   ]
  },
  {
   "cell_type": "markdown",
   "metadata": {},
   "source": [
    "- Generating plot ($\\Delta$ values) - Anual"
   ]
  },
  {
   "cell_type": "code",
   "execution_count": 147,
   "metadata": {},
   "outputs": [],
   "source": [
    "temp_df = df_consumption.copy()\n",
    "temp_df['year'] = temp_df['date'].dt.year\n",
    "temp_df = temp_df.groupby('year').mean()\n",
    "\n",
    "for i in list_names_consumption[:-1]:\n",
    "    temp_df[i] = 100*temp_df[i]/temp_df['total']"
   ]
  },
  {
   "cell_type": "code",
   "execution_count": 149,
   "metadata": {},
   "outputs": [],
   "source": [
    "temp_df = df_consumption.copy()\n",
    "temp_df['year'] = temp_df['date'].dt.year\n",
    "temp_df = temp_df.groupby('year').mean()\n",
    "\n",
    "for i in list_names_consumption[:-1]:\n",
    "    temp_df[i] = 100*temp_df[i]/temp_df['total']\n",
    "\n",
    "temp_df = temp_df.reset_index()\n",
    "for name in list_names_consumption:\n",
    "    temp_df[name] = [0]+[temp_df[name][i]-temp_df[name][i-1] for i in range(1,len(temp_df['comercial']))]"
   ]
  },
  {
   "cell_type": "code",
   "execution_count": 11,
   "metadata": {},
   "outputs": [
    {
     "data": {
      "text/plain": [
       "'file:///home/breno/proj/roraima-energy-social/NORTE/plots/ConsumoNorteDeltaAnual.html'"
      ]
     },
     "execution_count": 11,
     "metadata": {},
     "output_type": "execute_result"
    }
   ],
   "source": [
    "temp_df = df_consumption.copy()\n",
    "temp_df['year'] = temp_df['date'].dt.year\n",
    "temp_df = temp_df.groupby('year').mean()\n",
    "\n",
    "for i in list_names_consumption[:-1]:\n",
    "    temp_df[i] = 100*temp_df[i]/temp_df['total']\n",
    "\n",
    "temp_df = temp_df.reset_index()\n",
    "for name in list_names_consumption:\n",
    "    temp_df[name] = [0]+[temp_df[name][i]-temp_df[name][i-1] for i in range(1,len(temp_df['comercial']))]\n",
    "    \n",
    "data = []\n",
    "x = temp_df['year']\n",
    "for i in list_names_consumption[:-1]:\n",
    "    trace = go.Scatter(x = x, y = temp_df[i], name = i)\n",
    "    data.append(trace)\n",
    "layout = go.Layout(title = 'Consumo Elétrico Região Norte - Eletrobrás',\n",
    "                   yaxis = dict(title = 'Delta % do consumo elétrico'),\n",
    "                   xaxis = dict(type = 'date'))\n",
    "fig = go.Figure(data=data, layout= layout)\n",
    "pyo.plot(fig, filename='./plots/ConsumoNorteDeltaAnual.html', config=dict(showLink = False))"
   ]
  },
  {
   "cell_type": "code",
   "execution_count": 13,
   "metadata": {},
   "outputs": [
    {
     "data": {
      "application/vnd.jupyter.widget-view+json": {
       "model_id": "763487eca57e40a88c489131a707df90",
       "version_major": 2,
       "version_minor": 0
      },
      "text/plain": [
       "FigureWidget({\n",
       "    'data': [{'name': 'comercial',\n",
       "              'type': 'scatter',\n",
       "              'uid': 'd4998…"
      ]
     },
     "metadata": {},
     "output_type": "display_data"
    }
   ],
   "source": [
    "go.FigureWidget(data=data, layout= layout)"
   ]
  }
 ],
 "metadata": {
  "kernelspec": {
   "display_name": "Python 3",
   "language": "python",
   "name": "python3"
  },
  "language_info": {
   "codemirror_mode": {
    "name": "ipython",
    "version": 3
   },
   "file_extension": ".py",
   "mimetype": "text/x-python",
   "name": "python",
   "nbconvert_exporter": "python",
   "pygments_lexer": "ipython3",
   "version": "3.6.5"
  }
 },
 "nbformat": 4,
 "nbformat_minor": 2
}
