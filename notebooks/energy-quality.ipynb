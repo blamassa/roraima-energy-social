{
  "cells": [
    {
      "metadata": {
        "trusted": true
      },
      "cell_type": "code",
      "source": "import pandas as pd\nimport numpy as np\nimport plotly.offline as pyo\nimport plotly.graph_objs as go\npyo.init_notebook_mode(connected=True)",
      "execution_count": 2,
      "outputs": [
        {
          "output_type": "display_data",
          "data": {
            "text/vnd.plotly.v1+html": "<script type=\"text/javascript\">window.PlotlyConfig = {MathJaxConfig: 'local'};</script><script type=\"text/javascript\">if (window.MathJax) {MathJax.Hub.Config({SVG: {font: \"STIX-Web\"}});}</script><script>requirejs.config({paths: { 'plotly': ['https://cdn.plot.ly/plotly-latest.min']},});if(!window._Plotly) {require(['plotly'],function(plotly) {window._Plotly=plotly;});}</script>",
            "text/html": "<script type=\"text/javascript\">window.PlotlyConfig = {MathJaxConfig: 'local'};</script><script type=\"text/javascript\">if (window.MathJax) {MathJax.Hub.Config({SVG: {font: \"STIX-Web\"}});}</script><script>requirejs.config({paths: { 'plotly': ['https://cdn.plot.ly/plotly-latest.min']},});if(!window._Plotly) {require(['plotly'],function(plotly) {window._Plotly=plotly;});}</script>"
          },
          "metadata": {}
        }
      ]
    },
    {
      "metadata": {},
      "cell_type": "markdown",
      "source": "# Indicadores de Qualidade de Energia\n\n### Indicadores coletivos de continuidade\n\nPossibilidade: utilizar como parâmetro o DEC e FEC de uma rede do sudeste (mais robusta) para comparação.\n\n- DEC (Duração Equivalente de Interrupção por Unidade Consumidora)\n- FEC (Frequência Equivalente de Interrupção por Unidade Consumidora)\n\n**obs:** Dados de Boa Vista existem desde 2000, e os dados da CERR, desde 2008. Identificar diferença das duas concessionárias em área de cobertura."
    },
    {
      "metadata": {
        "trusted": true
      },
      "cell_type": "code",
      "source": "! cd .. && cd ANEEL && ls",
      "execution_count": 63,
      "outputs": [
        {
          "output_type": "stream",
          "text": "CapacidadeInstaladaUF.csv\t\tplots\r\nDesempenhoConcessionaria.csv\t\tRR_capInstal.html\r\nIndicadores qualidade de energia.ipynb\tTarifaFornecimentoResidencial.csv\r\nIndiceSatisfacaoConsumidor.csv\t\tTarifaMediaFornecimento.csv\r\noutros_sets.md\r\n",
          "name": "stdout"
        }
      ]
    },
    {
      "metadata": {
        "trusted": true
      },
      "cell_type": "code",
      "source": "tarifaMedia_df = pd.read_csv('/home/nbuser/library/roraima-energy-social/ANEEL/TarifaMediaFornecimento.csv', encoding='latin1')",
      "execution_count": 67,
      "outputs": []
    },
    {
      "metadata": {
        "trusted": true
      },
      "cell_type": "code",
      "source": "desempenho_df[(desempenho_df['nomEmpresa'] == 'CERR') |\n              (desempenho_df['nomEmpresa'] == 'Eletrobrás Distribuição Roraima') |\n              (desempenho_df['nomEmpresa'] == 'Boa Vista')]",
      "execution_count": 62,
      "outputs": [
        {
          "output_type": "execute_result",
          "execution_count": 62,
          "data": {
            "text/html": "<div>\n<style scoped>\n    .dataframe tbody tr th:only-of-type {\n        vertical-align: middle;\n    }\n\n    .dataframe tbody tr th {\n        vertical-align: top;\n    }\n\n    .dataframe thead th {\n        text-align: right;\n    }\n</style>\n<table border=\"1\" class=\"dataframe\">\n  <thead>\n    <tr style=\"text-align: right;\">\n      <th></th>\n      <th>ideIndiceSatisfacaoConsumidor</th>\n      <th>nomCategoria</th>\n      <th>nomEmpresa</th>\n      <th>qtdPontuacaoEmpresaIASC</th>\n      <th>qtdPontuacaoBrasilIASC</th>\n      <th>mesReferencia</th>\n      <th>anoReferencia</th>\n      <th>dthProcessamento</th>\n    </tr>\n  </thead>\n  <tbody>\n    <tr>\n      <th>29</th>\n      <td>30</td>\n      <td>Maior Crescimento Anual  (%)</td>\n      <td>Boa Vista</td>\n      <td>71.32</td>\n      <td>65.39</td>\n      <td>0</td>\n      <td>2007</td>\n      <td>13/09/2017 00:00:00</td>\n    </tr>\n    <tr>\n      <th>33</th>\n      <td>34</td>\n      <td>Maior Crescimento Anual  (%)</td>\n      <td>CERR</td>\n      <td>42.58</td>\n      <td>60.41</td>\n      <td>0</td>\n      <td>2013</td>\n      <td>13/09/2017 00:00:00</td>\n    </tr>\n    <tr>\n      <th>37</th>\n      <td>38</td>\n      <td>Maior Crescimento Anual  (%)</td>\n      <td>Eletrobrás Distribuição Roraima</td>\n      <td>53.06</td>\n      <td>64.41</td>\n      <td>0</td>\n      <td>2010</td>\n      <td>13/09/2017 00:00:00</td>\n    </tr>\n    <tr>\n      <th>56</th>\n      <td>57</td>\n      <td>Norte</td>\n      <td>Boa Vista</td>\n      <td>58.35</td>\n      <td>62.62</td>\n      <td>0</td>\n      <td>2008</td>\n      <td>13/09/2017 00:00:00</td>\n    </tr>\n  </tbody>\n</table>\n</div>",
            "text/plain": "    ideIndiceSatisfacaoConsumidor                  nomCategoria  \\\n29                             30  Maior Crescimento Anual  (%)   \n33                             34  Maior Crescimento Anual  (%)   \n37                             38  Maior Crescimento Anual  (%)   \n56                             57                         Norte   \n\n                         nomEmpresa  qtdPontuacaoEmpresaIASC  \\\n29                        Boa Vista                    71.32   \n33                             CERR                    42.58   \n37  Eletrobrás Distribuição Roraima                    53.06   \n56                        Boa Vista                    58.35   \n\n    qtdPontuacaoBrasilIASC  mesReferencia  anoReferencia     dthProcessamento  \n29                   65.39              0           2007  13/09/2017 00:00:00  \n33                   60.41              0           2013  13/09/2017 00:00:00  \n37                   64.41              0           2010  13/09/2017 00:00:00  \n56                   62.62              0           2008  13/09/2017 00:00:00  "
          },
          "metadata": {}
        }
      ]
    },
    {
      "metadata": {
        "trusted": true
      },
      "cell_type": "code",
      "source": "tarifaMedia_df.columns",
      "execution_count": 70,
      "outputs": [
        {
          "output_type": "execute_result",
          "execution_count": 70,
          "data": {
            "text/plain": "Index(['ideTarifaMediaFornecimento', 'nomClasseConsumo', 'nomRegiao',\n       'vlrConsumoMWh', 'mesReferencia', 'anoReferencia', 'dthProcessamento'],\n      dtype='object')"
          },
          "metadata": {}
        }
      ]
    },
    {
      "metadata": {
        "trusted": true
      },
      "cell_type": "code",
      "source": "np.unique(tarifaMedia_df['nomClasseConsumo'])",
      "execution_count": 69,
      "outputs": [
        {
          "output_type": "execute_result",
          "execution_count": 69,
          "data": {
            "text/plain": "array(['Comercial e  Serviços e Outras', 'Comercial e Serviços e Outras',\n       'Consumo Próprio', 'Iluminação Pública', 'Industrial',\n       'Poder Público', 'Residencia', 'Residencial', 'Rural',\n       'Rural Aquicultor', 'Rural Irrigante', 'Serviço Público',\n       'Serviço Público (tração elétrica)',\n       'Serviço Público (água e  esgoto e saneamento)',\n       'Serviço Público (água e esgoto e saneamento)',\n       'Totais por Região', 'Total por Região'], dtype=object)"
          },
          "metadata": {}
        }
      ]
    },
    {
      "metadata": {
        "trusted": true
      },
      "cell_type": "code",
      "source": "np.unique(tarifaMedia_df['anoReferencia'].sort_values())",
      "execution_count": 72,
      "outputs": [
        {
          "output_type": "execute_result",
          "execution_count": 72,
          "data": {
            "text/plain": "array([2003, 2012, 2013, 2014, 2015, 2016, 2017, 2018])"
          },
          "metadata": {}
        }
      ]
    },
    {
      "metadata": {
        "trusted": true
      },
      "cell_type": "code",
      "source": "type(tarifaMedia_df['vlrConsumoMWh'][0])",
      "execution_count": 83,
      "outputs": [
        {
          "output_type": "execute_result",
          "execution_count": 83,
          "data": {
            "text/plain": "numpy.float64"
          },
          "metadata": {}
        }
      ]
    },
    {
      "metadata": {
        "trusted": true
      },
      "cell_type": "code",
      "source": "temp_df2",
      "execution_count": 86,
      "outputs": [
        {
          "output_type": "execute_result",
          "execution_count": 86,
          "data": {
            "text/html": "<div>\n<style scoped>\n    .dataframe tbody tr th:only-of-type {\n        vertical-align: middle;\n    }\n\n    .dataframe tbody tr th {\n        vertical-align: top;\n    }\n\n    .dataframe thead th {\n        text-align: right;\n    }\n</style>\n<table border=\"1\" class=\"dataframe\">\n  <thead>\n    <tr style=\"text-align: right;\">\n      <th></th>\n      <th>ideTarifaMediaFornecimento</th>\n      <th>nomClasseConsumo</th>\n      <th>nomRegiao</th>\n      <th>vlrConsumoMWh</th>\n      <th>mesReferencia</th>\n      <th>anoReferencia</th>\n      <th>dthProcessamento</th>\n    </tr>\n  </thead>\n  <tbody>\n    <tr>\n      <th>511</th>\n      <td>512</td>\n      <td>Industrial</td>\n      <td>Sul</td>\n      <td>425.04</td>\n      <td>3</td>\n      <td>2003</td>\n      <td>13/09/2017 00:00:00</td>\n    </tr>\n    <tr>\n      <th>512</th>\n      <td>513</td>\n      <td>Industrial</td>\n      <td>Sul</td>\n      <td>174.31</td>\n      <td>3</td>\n      <td>2012</td>\n      <td>13/09/2017 00:00:00</td>\n    </tr>\n    <tr>\n      <th>518</th>\n      <td>519</td>\n      <td>Industrial</td>\n      <td>Sul</td>\n      <td>174.31</td>\n      <td>6</td>\n      <td>2012</td>\n      <td>13/09/2017 00:00:00</td>\n    </tr>\n    <tr>\n      <th>523</th>\n      <td>524</td>\n      <td>Industrial</td>\n      <td>Sul</td>\n      <td>300.53</td>\n      <td>9</td>\n      <td>2012</td>\n      <td>13/09/2017 00:00:00</td>\n    </tr>\n    <tr>\n      <th>506</th>\n      <td>507</td>\n      <td>Industrial</td>\n      <td>Sul</td>\n      <td>294.43</td>\n      <td>12</td>\n      <td>2012</td>\n      <td>13/09/2017 00:00:00</td>\n    </tr>\n    <tr>\n      <th>513</th>\n      <td>514</td>\n      <td>Industrial</td>\n      <td>Sul</td>\n      <td>224.08</td>\n      <td>3</td>\n      <td>2013</td>\n      <td>13/09/2017 00:00:00</td>\n    </tr>\n    <tr>\n      <th>519</th>\n      <td>520</td>\n      <td>Industrial</td>\n      <td>Sul</td>\n      <td>203.76</td>\n      <td>6</td>\n      <td>2013</td>\n      <td>13/09/2017 00:00:00</td>\n    </tr>\n    <tr>\n      <th>524</th>\n      <td>525</td>\n      <td>Industrial</td>\n      <td>Sul</td>\n      <td>211.77</td>\n      <td>9</td>\n      <td>2013</td>\n      <td>13/09/2017 00:00:00</td>\n    </tr>\n    <tr>\n      <th>507</th>\n      <td>508</td>\n      <td>Industrial</td>\n      <td>Sul</td>\n      <td>221.61</td>\n      <td>12</td>\n      <td>2013</td>\n      <td>13/09/2017 00:00:00</td>\n    </tr>\n    <tr>\n      <th>514</th>\n      <td>515</td>\n      <td>Industrial</td>\n      <td>Sul</td>\n      <td>222.15</td>\n      <td>3</td>\n      <td>2014</td>\n      <td>13/09/2017 00:00:00</td>\n    </tr>\n    <tr>\n      <th>520</th>\n      <td>521</td>\n      <td>Industrial</td>\n      <td>Sul</td>\n      <td>224.92</td>\n      <td>6</td>\n      <td>2014</td>\n      <td>13/09/2017 00:00:00</td>\n    </tr>\n    <tr>\n      <th>525</th>\n      <td>526</td>\n      <td>Industrial</td>\n      <td>Sul</td>\n      <td>203.82</td>\n      <td>9</td>\n      <td>2014</td>\n      <td>13/09/2017 00:00:00</td>\n    </tr>\n    <tr>\n      <th>508</th>\n      <td>509</td>\n      <td>Industrial</td>\n      <td>Sul</td>\n      <td>248.10</td>\n      <td>12</td>\n      <td>2014</td>\n      <td>13/09/2017 00:00:00</td>\n    </tr>\n    <tr>\n      <th>515</th>\n      <td>516</td>\n      <td>Industrial</td>\n      <td>Sul</td>\n      <td>304.00</td>\n      <td>3</td>\n      <td>2015</td>\n      <td>13/09/2017 00:00:00</td>\n    </tr>\n    <tr>\n      <th>521</th>\n      <td>522</td>\n      <td>Industrial</td>\n      <td>Sul</td>\n      <td>344.38</td>\n      <td>6</td>\n      <td>2015</td>\n      <td>13/09/2017 00:00:00</td>\n    </tr>\n    <tr>\n      <th>526</th>\n      <td>527</td>\n      <td>Industrial</td>\n      <td>Sul</td>\n      <td>364.99</td>\n      <td>9</td>\n      <td>2015</td>\n      <td>13/09/2017 00:00:00</td>\n    </tr>\n    <tr>\n      <th>509</th>\n      <td>510</td>\n      <td>Industrial</td>\n      <td>Sul</td>\n      <td>374.27</td>\n      <td>12</td>\n      <td>2015</td>\n      <td>13/09/2017 00:00:00</td>\n    </tr>\n    <tr>\n      <th>516</th>\n      <td>517</td>\n      <td>Industrial</td>\n      <td>Sul</td>\n      <td>433.61</td>\n      <td>3</td>\n      <td>2016</td>\n      <td>13/09/2017 00:00:00</td>\n    </tr>\n    <tr>\n      <th>522</th>\n      <td>523</td>\n      <td>Industrial</td>\n      <td>Sul</td>\n      <td>402.07</td>\n      <td>6</td>\n      <td>2016</td>\n      <td>13/09/2017 00:00:00</td>\n    </tr>\n    <tr>\n      <th>527</th>\n      <td>528</td>\n      <td>Industrial</td>\n      <td>Sul</td>\n      <td>372.89</td>\n      <td>9</td>\n      <td>2016</td>\n      <td>13/09/2017 00:00:00</td>\n    </tr>\n    <tr>\n      <th>510</th>\n      <td>511</td>\n      <td>Industrial</td>\n      <td>Sul</td>\n      <td>381.09</td>\n      <td>12</td>\n      <td>2016</td>\n      <td>13/09/2017 00:00:00</td>\n    </tr>\n    <tr>\n      <th>517</th>\n      <td>518</td>\n      <td>Industrial</td>\n      <td>Sul</td>\n      <td>385.00</td>\n      <td>3</td>\n      <td>2017</td>\n      <td>13/09/2017 00:00:00</td>\n    </tr>\n    <tr>\n      <th>1607</th>\n      <td>1608</td>\n      <td>Industrial</td>\n      <td>Sul</td>\n      <td>383.25</td>\n      <td>6</td>\n      <td>2017</td>\n      <td>10/10/2017 00:00:00</td>\n    </tr>\n    <tr>\n      <th>1679</th>\n      <td>1680</td>\n      <td>Industrial</td>\n      <td>Sul</td>\n      <td>413.41</td>\n      <td>9</td>\n      <td>2017</td>\n      <td>21/12/2017 00:00:00</td>\n    </tr>\n    <tr>\n      <th>1751</th>\n      <td>1752</td>\n      <td>Industrial</td>\n      <td>Sul</td>\n      <td>433.47</td>\n      <td>12</td>\n      <td>2017</td>\n      <td>15/03/2018 00:00:00</td>\n    </tr>\n    <tr>\n      <th>1823</th>\n      <td>1824</td>\n      <td>Industrial</td>\n      <td>Sul</td>\n      <td>405.54</td>\n      <td>3</td>\n      <td>2018</td>\n      <td>29/06/2018 00:00:00</td>\n    </tr>\n  </tbody>\n</table>\n</div>",
            "text/plain": "      ideTarifaMediaFornecimento nomClasseConsumo nomRegiao  vlrConsumoMWh  \\\n511                          512       Industrial       Sul         425.04   \n512                          513       Industrial       Sul         174.31   \n518                          519       Industrial       Sul         174.31   \n523                          524       Industrial       Sul         300.53   \n506                          507       Industrial       Sul         294.43   \n513                          514       Industrial       Sul         224.08   \n519                          520       Industrial       Sul         203.76   \n524                          525       Industrial       Sul         211.77   \n507                          508       Industrial       Sul         221.61   \n514                          515       Industrial       Sul         222.15   \n520                          521       Industrial       Sul         224.92   \n525                          526       Industrial       Sul         203.82   \n508                          509       Industrial       Sul         248.10   \n515                          516       Industrial       Sul         304.00   \n521                          522       Industrial       Sul         344.38   \n526                          527       Industrial       Sul         364.99   \n509                          510       Industrial       Sul         374.27   \n516                          517       Industrial       Sul         433.61   \n522                          523       Industrial       Sul         402.07   \n527                          528       Industrial       Sul         372.89   \n510                          511       Industrial       Sul         381.09   \n517                          518       Industrial       Sul         385.00   \n1607                        1608       Industrial       Sul         383.25   \n1679                        1680       Industrial       Sul         413.41   \n1751                        1752       Industrial       Sul         433.47   \n1823                        1824       Industrial       Sul         405.54   \n\n      mesReferencia  anoReferencia     dthProcessamento  \n511               3           2003  13/09/2017 00:00:00  \n512               3           2012  13/09/2017 00:00:00  \n518               6           2012  13/09/2017 00:00:00  \n523               9           2012  13/09/2017 00:00:00  \n506              12           2012  13/09/2017 00:00:00  \n513               3           2013  13/09/2017 00:00:00  \n519               6           2013  13/09/2017 00:00:00  \n524               9           2013  13/09/2017 00:00:00  \n507              12           2013  13/09/2017 00:00:00  \n514               3           2014  13/09/2017 00:00:00  \n520               6           2014  13/09/2017 00:00:00  \n525               9           2014  13/09/2017 00:00:00  \n508              12           2014  13/09/2017 00:00:00  \n515               3           2015  13/09/2017 00:00:00  \n521               6           2015  13/09/2017 00:00:00  \n526               9           2015  13/09/2017 00:00:00  \n509              12           2015  13/09/2017 00:00:00  \n516               3           2016  13/09/2017 00:00:00  \n522               6           2016  13/09/2017 00:00:00  \n527               9           2016  13/09/2017 00:00:00  \n510              12           2016  13/09/2017 00:00:00  \n517               3           2017  13/09/2017 00:00:00  \n1607              6           2017  10/10/2017 00:00:00  \n1679              9           2017  21/12/2017 00:00:00  \n1751             12           2017  15/03/2018 00:00:00  \n1823              3           2018  29/06/2018 00:00:00  "
          },
          "metadata": {}
        }
      ]
    },
    {
      "metadata": {
        "trusted": true,
        "scrolled": false
      },
      "cell_type": "code",
      "source": "temp_df = tarifaMedia_df[tarifaMedia_df['nomClasseConsumo'] == 'Industrial'].sort_values(['anoReferencia','mesReferencia'])\n\ndata = []\n\nfor regiao in np.unique(tarifaMedia_df['nomRegiao']):\n    temp_df2 = temp_df[(temp_df['anoReferencia'] !=2013) & (temp_df['nomRegiao'] == regiao)]\n    trace = go.Scatter(x = temp_df2['anoReferencia'].astype('str')+'-'+temp_df2['mesReferencia'].astype('str'),\n                       y = temp_df2['vlrConsumoMWh'], name = regiao)\n    data.append(trace)\n\nlayout = go.Layout(title = 'Tarifa Média Industrial por Região',\n                   xaxis = dict(type = 'date'),\n                   yaxis = dict(title = 'Valor_consumoMWh'))\nfig = go.Figure(data = data,layout=layout)\npyo.iplot(fig, config=dict(showLink = False))",
      "execution_count": 101,
      "outputs": [
        {
          "output_type": "display_data",
          "data": {
            "text/vnd.plotly.v1+html": "<div id=\"23d709b3-ccd3-4e4a-b69f-ba865c105fdd\" style=\"height: 525px; width: 100%;\" class=\"plotly-graph-div\"></div><script type=\"text/javascript\">require([\"plotly\"], function(Plotly) { window.PLOTLYENV=window.PLOTLYENV || {};window.PLOTLYENV.BASE_URL=\"https://plot.ly\";Plotly.newPlot(\"23d709b3-ccd3-4e4a-b69f-ba865c105fdd\", [{\"name\": \"Brasil\", \"x\": [\"2003-3\", \"2012-3\", \"2012-6\", \"2012-9\", \"2012-12\", \"2014-3\", \"2014-6\", \"2014-9\", \"2014-12\", \"2015-3\", \"2015-6\", \"2015-9\", \"2015-12\", \"2016-3\", \"2016-6\", \"2016-9\", \"2016-12\", \"2017-3\", \"2017-6\", \"2017-9\", \"2017-12\", \"2018-3\"], \"y\": [401.48, 213.94, 213.94, 325.41, 324.39, 226.91, 230.94, 207.68, 248.58, 305.81, 343.25, 359.15, 365.19, 399.78, 394.16, 392.62, 383.07, 388.9, 388.21, 406.79, 429.04, 409.61], \"type\": \"scatter\", \"uid\": \"bb6fabdc-9c0f-45fa-b307-1ba92fd2b549\"}, {\"name\": \"Centro-Oeste\", \"x\": [\"2003-3\", \"2012-3\", \"2012-6\", \"2012-9\", \"2012-12\", \"2014-3\", \"2014-6\", \"2014-9\", \"2014-12\", \"2015-3\", \"2015-6\", \"2015-9\", \"2015-12\", \"2016-3\", \"2016-6\", \"2016-9\", \"2016-12\", \"2017-3\", \"2017-6\", \"2017-9\", \"2017-12\", \"2018-3\"], \"y\": [340.31, 206.11, 206.11, 349.55, 380.61, 204.24, 206.99, 204.94, 217.56, 271.28, 308.02, 316.05, 318.39, 331.8, 331.96, 450.25, 345.46, 368.49, 355.47, 361.65, 406.07, 390.14], \"type\": \"scatter\", \"uid\": \"dc31abab-7b5c-4e7e-b750-ea9c389169a7\"}, {\"name\": \"Nordeste\", \"x\": [\"2003-3\", \"2012-3\", \"2012-6\", \"2012-9\", \"2012-12\", \"2014-3\", \"2014-6\", \"2014-9\", \"2014-12\", \"2015-3\", \"2015-6\", \"2015-9\", \"2015-12\", \"2016-3\", \"2016-6\", \"2016-9\", \"2016-12\", \"2017-3\", \"2017-6\", \"2017-9\", \"2017-12\", \"2018-3\"], \"y\": [319.59, 218.97, 218.97, 350.8, 350.48, 215.63, 221.17, 207.91, 241.06, 282.08, 300.13, 306.52, 301.56, 309.74, 341.88, 344.53, 346.61, 357.12, 368.13, 383.18, 372.39, 385.55], \"type\": \"scatter\", \"uid\": \"c6bc56b8-f9c3-482b-8192-21ffdcec35e1\"}, {\"name\": \"Norte\", \"x\": [\"2003-3\", \"2012-3\", \"2012-6\", \"2012-9\", \"2012-12\", \"2014-3\", \"2014-6\", \"2014-9\", \"2014-12\", \"2015-3\", \"2015-6\", \"2015-9\", \"2015-12\", \"2016-3\", \"2016-6\", \"2016-9\", \"2016-12\", \"2017-3\", \"2017-6\", \"2017-9\", \"2017-12\", \"2018-3\"], \"y\": [367.06, 246.41, 246.41, 336.52, 301.34, 228.07, 227.78, 222.25, 244.45, 292.01, 300.15, 301.5, 305.13, 350.73, 373.89, 390.48, 418.65, 432.4, 422.16, 447.0, 499.85, 494.69], \"type\": \"scatter\", \"uid\": \"e23ff7b6-7d54-44ec-b8f4-6f55dbc06f7a\"}, {\"name\": \"Sudeste\", \"x\": [\"2003-3\", \"2012-3\", \"2012-6\", \"2012-9\", \"2012-12\", \"2014-3\", \"2014-6\", \"2014-9\", \"2014-12\", \"2015-3\", \"2015-6\", \"2015-9\", \"2015-12\", \"2016-3\", \"2016-6\", \"2016-9\", \"2016-12\", \"2017-3\", \"2017-6\", \"2017-9\", \"2017-12\", \"2018-3\"], \"y\": [428.52, 245.32, 245.32, 315.9, 330.69, 236.2, 241.77, 208.59, 256.57, 321.51, 366.87, 387.4, 396.33, 427.48, 421.51, 413.32, 397.91, 400.12, 398.95, 412.9, 440.51, 412.86], \"type\": \"scatter\", \"uid\": \"358322c3-5e6f-4faa-9380-37193e85e9fb\"}, {\"name\": \"Sul\", \"x\": [\"2003-3\", \"2012-3\", \"2012-6\", \"2012-9\", \"2012-12\", \"2014-3\", \"2014-6\", \"2014-9\", \"2014-12\", \"2015-3\", \"2015-6\", \"2015-9\", \"2015-12\", \"2016-3\", \"2016-6\", \"2016-9\", \"2016-12\", \"2017-3\", \"2017-6\", \"2017-9\", \"2017-12\", \"2018-3\"], \"y\": [425.04, 174.31, 174.31, 300.53, 294.43, 222.15, 224.92, 203.82, 248.1, 304.0, 344.38, 364.99, 374.27, 433.61, 402.07, 372.89, 381.09, 385.0, 383.25, 413.41, 433.47, 405.54], \"type\": \"scatter\", \"uid\": \"dcd88255-be5c-4695-88ea-6d704b3c8ed3\"}], {\"title\": {\"text\": \"Tarifa M\\u00e9dia Industrial por Regi\\u00e3o\"}, \"xaxis\": {\"type\": \"date\"}, \"yaxis\": {\"title\": {\"text\": \"Valor_consumoMWh\"}}}, {\"showLink\": false, \"linkText\": \"Export to plot.ly\", \"plotlyServerURL\": \"https://plot.ly\"})});</script><script type=\"text/javascript\">window.addEventListener(\"resize\", function(){window._Plotly.Plots.resize(document.getElementById(\"23d709b3-ccd3-4e4a-b69f-ba865c105fdd\"));});</script>",
            "text/html": "<div id=\"23d709b3-ccd3-4e4a-b69f-ba865c105fdd\" style=\"height: 525px; width: 100%;\" class=\"plotly-graph-div\"></div><script type=\"text/javascript\">require([\"plotly\"], function(Plotly) { window.PLOTLYENV=window.PLOTLYENV || {};window.PLOTLYENV.BASE_URL=\"https://plot.ly\";Plotly.newPlot(\"23d709b3-ccd3-4e4a-b69f-ba865c105fdd\", [{\"name\": \"Brasil\", \"x\": [\"2003-3\", \"2012-3\", \"2012-6\", \"2012-9\", \"2012-12\", \"2014-3\", \"2014-6\", \"2014-9\", \"2014-12\", \"2015-3\", \"2015-6\", \"2015-9\", \"2015-12\", \"2016-3\", \"2016-6\", \"2016-9\", \"2016-12\", \"2017-3\", \"2017-6\", \"2017-9\", \"2017-12\", \"2018-3\"], \"y\": [401.48, 213.94, 213.94, 325.41, 324.39, 226.91, 230.94, 207.68, 248.58, 305.81, 343.25, 359.15, 365.19, 399.78, 394.16, 392.62, 383.07, 388.9, 388.21, 406.79, 429.04, 409.61], \"type\": \"scatter\", \"uid\": \"bb6fabdc-9c0f-45fa-b307-1ba92fd2b549\"}, {\"name\": \"Centro-Oeste\", \"x\": [\"2003-3\", \"2012-3\", \"2012-6\", \"2012-9\", \"2012-12\", \"2014-3\", \"2014-6\", \"2014-9\", \"2014-12\", \"2015-3\", \"2015-6\", \"2015-9\", \"2015-12\", \"2016-3\", \"2016-6\", \"2016-9\", \"2016-12\", \"2017-3\", \"2017-6\", \"2017-9\", \"2017-12\", \"2018-3\"], \"y\": [340.31, 206.11, 206.11, 349.55, 380.61, 204.24, 206.99, 204.94, 217.56, 271.28, 308.02, 316.05, 318.39, 331.8, 331.96, 450.25, 345.46, 368.49, 355.47, 361.65, 406.07, 390.14], \"type\": \"scatter\", \"uid\": \"dc31abab-7b5c-4e7e-b750-ea9c389169a7\"}, {\"name\": \"Nordeste\", \"x\": [\"2003-3\", \"2012-3\", \"2012-6\", \"2012-9\", \"2012-12\", \"2014-3\", \"2014-6\", \"2014-9\", \"2014-12\", \"2015-3\", \"2015-6\", \"2015-9\", \"2015-12\", \"2016-3\", \"2016-6\", \"2016-9\", \"2016-12\", \"2017-3\", \"2017-6\", \"2017-9\", \"2017-12\", \"2018-3\"], \"y\": [319.59, 218.97, 218.97, 350.8, 350.48, 215.63, 221.17, 207.91, 241.06, 282.08, 300.13, 306.52, 301.56, 309.74, 341.88, 344.53, 346.61, 357.12, 368.13, 383.18, 372.39, 385.55], \"type\": \"scatter\", \"uid\": \"c6bc56b8-f9c3-482b-8192-21ffdcec35e1\"}, {\"name\": \"Norte\", \"x\": [\"2003-3\", \"2012-3\", \"2012-6\", \"2012-9\", \"2012-12\", \"2014-3\", \"2014-6\", \"2014-9\", \"2014-12\", \"2015-3\", \"2015-6\", \"2015-9\", \"2015-12\", \"2016-3\", \"2016-6\", \"2016-9\", \"2016-12\", \"2017-3\", \"2017-6\", \"2017-9\", \"2017-12\", \"2018-3\"], \"y\": [367.06, 246.41, 246.41, 336.52, 301.34, 228.07, 227.78, 222.25, 244.45, 292.01, 300.15, 301.5, 305.13, 350.73, 373.89, 390.48, 418.65, 432.4, 422.16, 447.0, 499.85, 494.69], \"type\": \"scatter\", \"uid\": \"e23ff7b6-7d54-44ec-b8f4-6f55dbc06f7a\"}, {\"name\": \"Sudeste\", \"x\": [\"2003-3\", \"2012-3\", \"2012-6\", \"2012-9\", \"2012-12\", \"2014-3\", \"2014-6\", \"2014-9\", \"2014-12\", \"2015-3\", \"2015-6\", \"2015-9\", \"2015-12\", \"2016-3\", \"2016-6\", \"2016-9\", \"2016-12\", \"2017-3\", \"2017-6\", \"2017-9\", \"2017-12\", \"2018-3\"], \"y\": [428.52, 245.32, 245.32, 315.9, 330.69, 236.2, 241.77, 208.59, 256.57, 321.51, 366.87, 387.4, 396.33, 427.48, 421.51, 413.32, 397.91, 400.12, 398.95, 412.9, 440.51, 412.86], \"type\": \"scatter\", \"uid\": \"358322c3-5e6f-4faa-9380-37193e85e9fb\"}, {\"name\": \"Sul\", \"x\": [\"2003-3\", \"2012-3\", \"2012-6\", \"2012-9\", \"2012-12\", \"2014-3\", \"2014-6\", \"2014-9\", \"2014-12\", \"2015-3\", \"2015-6\", \"2015-9\", \"2015-12\", \"2016-3\", \"2016-6\", \"2016-9\", \"2016-12\", \"2017-3\", \"2017-6\", \"2017-9\", \"2017-12\", \"2018-3\"], \"y\": [425.04, 174.31, 174.31, 300.53, 294.43, 222.15, 224.92, 203.82, 248.1, 304.0, 344.38, 364.99, 374.27, 433.61, 402.07, 372.89, 381.09, 385.0, 383.25, 413.41, 433.47, 405.54], \"type\": \"scatter\", \"uid\": \"dcd88255-be5c-4695-88ea-6d704b3c8ed3\"}], {\"title\": {\"text\": \"Tarifa M\\u00e9dia Industrial por Regi\\u00e3o\"}, \"xaxis\": {\"type\": \"date\"}, \"yaxis\": {\"title\": {\"text\": \"Valor_consumoMWh\"}}}, {\"showLink\": false, \"linkText\": \"Export to plot.ly\", \"plotlyServerURL\": \"https://plot.ly\"})});</script><script type=\"text/javascript\">window.addEventListener(\"resize\", function(){window._Plotly.Plots.resize(document.getElementById(\"23d709b3-ccd3-4e4a-b69f-ba865c105fdd\"));});</script>",
            "application/vnd.plotly.v1+json": {
              "layout": {
                "yaxis": {
                  "title": {
                    "text": "Valor_consumoMWh"
                  }
                },
                "xaxis": {
                  "type": "date"
                },
                "title": {
                  "text": "Tarifa Média Industrial por Região"
                }
              },
              "config": {
                "plotlyServerURL": "https://plot.ly",
                "linkText": "Export to plot.ly",
                "showLink": false
              },
              "data": [
                {
                  "y": [
                    401.48,
                    213.94,
                    213.94,
                    325.41,
                    324.39,
                    226.91,
                    230.94,
                    207.68,
                    248.58,
                    305.81,
                    343.25,
                    359.15,
                    365.19,
                    399.78,
                    394.16,
                    392.62,
                    383.07,
                    388.9,
                    388.21,
                    406.79,
                    429.04,
                    409.61
                  ],
                  "x": [
                    "2003-3",
                    "2012-3",
                    "2012-6",
                    "2012-9",
                    "2012-12",
                    "2014-3",
                    "2014-6",
                    "2014-9",
                    "2014-12",
                    "2015-3",
                    "2015-6",
                    "2015-9",
                    "2015-12",
                    "2016-3",
                    "2016-6",
                    "2016-9",
                    "2016-12",
                    "2017-3",
                    "2017-6",
                    "2017-9",
                    "2017-12",
                    "2018-3"
                  ],
                  "type": "scatter",
                  "name": "Brasil",
                  "uid": "bb6fabdc-9c0f-45fa-b307-1ba92fd2b549"
                },
                {
                  "y": [
                    340.31,
                    206.11,
                    206.11,
                    349.55,
                    380.61,
                    204.24,
                    206.99,
                    204.94,
                    217.56,
                    271.28,
                    308.02,
                    316.05,
                    318.39,
                    331.8,
                    331.96,
                    450.25,
                    345.46,
                    368.49,
                    355.47,
                    361.65,
                    406.07,
                    390.14
                  ],
                  "x": [
                    "2003-3",
                    "2012-3",
                    "2012-6",
                    "2012-9",
                    "2012-12",
                    "2014-3",
                    "2014-6",
                    "2014-9",
                    "2014-12",
                    "2015-3",
                    "2015-6",
                    "2015-9",
                    "2015-12",
                    "2016-3",
                    "2016-6",
                    "2016-9",
                    "2016-12",
                    "2017-3",
                    "2017-6",
                    "2017-9",
                    "2017-12",
                    "2018-3"
                  ],
                  "type": "scatter",
                  "name": "Centro-Oeste",
                  "uid": "dc31abab-7b5c-4e7e-b750-ea9c389169a7"
                },
                {
                  "y": [
                    319.59,
                    218.97,
                    218.97,
                    350.8,
                    350.48,
                    215.63,
                    221.17,
                    207.91,
                    241.06,
                    282.08,
                    300.13,
                    306.52,
                    301.56,
                    309.74,
                    341.88,
                    344.53,
                    346.61,
                    357.12,
                    368.13,
                    383.18,
                    372.39,
                    385.55
                  ],
                  "x": [
                    "2003-3",
                    "2012-3",
                    "2012-6",
                    "2012-9",
                    "2012-12",
                    "2014-3",
                    "2014-6",
                    "2014-9",
                    "2014-12",
                    "2015-3",
                    "2015-6",
                    "2015-9",
                    "2015-12",
                    "2016-3",
                    "2016-6",
                    "2016-9",
                    "2016-12",
                    "2017-3",
                    "2017-6",
                    "2017-9",
                    "2017-12",
                    "2018-3"
                  ],
                  "type": "scatter",
                  "name": "Nordeste",
                  "uid": "c6bc56b8-f9c3-482b-8192-21ffdcec35e1"
                },
                {
                  "y": [
                    367.06,
                    246.41,
                    246.41,
                    336.52,
                    301.34,
                    228.07,
                    227.78,
                    222.25,
                    244.45,
                    292.01,
                    300.15,
                    301.5,
                    305.13,
                    350.73,
                    373.89,
                    390.48,
                    418.65,
                    432.4,
                    422.16,
                    447,
                    499.85,
                    494.69
                  ],
                  "x": [
                    "2003-3",
                    "2012-3",
                    "2012-6",
                    "2012-9",
                    "2012-12",
                    "2014-3",
                    "2014-6",
                    "2014-9",
                    "2014-12",
                    "2015-3",
                    "2015-6",
                    "2015-9",
                    "2015-12",
                    "2016-3",
                    "2016-6",
                    "2016-9",
                    "2016-12",
                    "2017-3",
                    "2017-6",
                    "2017-9",
                    "2017-12",
                    "2018-3"
                  ],
                  "type": "scatter",
                  "name": "Norte",
                  "uid": "e23ff7b6-7d54-44ec-b8f4-6f55dbc06f7a"
                },
                {
                  "y": [
                    428.52,
                    245.32,
                    245.32,
                    315.9,
                    330.69,
                    236.2,
                    241.77,
                    208.59,
                    256.57,
                    321.51,
                    366.87,
                    387.4,
                    396.33,
                    427.48,
                    421.51,
                    413.32,
                    397.91,
                    400.12,
                    398.95,
                    412.9,
                    440.51,
                    412.86
                  ],
                  "x": [
                    "2003-3",
                    "2012-3",
                    "2012-6",
                    "2012-9",
                    "2012-12",
                    "2014-3",
                    "2014-6",
                    "2014-9",
                    "2014-12",
                    "2015-3",
                    "2015-6",
                    "2015-9",
                    "2015-12",
                    "2016-3",
                    "2016-6",
                    "2016-9",
                    "2016-12",
                    "2017-3",
                    "2017-6",
                    "2017-9",
                    "2017-12",
                    "2018-3"
                  ],
                  "type": "scatter",
                  "name": "Sudeste",
                  "uid": "358322c3-5e6f-4faa-9380-37193e85e9fb"
                },
                {
                  "y": [
                    425.04,
                    174.31,
                    174.31,
                    300.53,
                    294.43,
                    222.15,
                    224.92,
                    203.82,
                    248.1,
                    304,
                    344.38,
                    364.99,
                    374.27,
                    433.61,
                    402.07,
                    372.89,
                    381.09,
                    385,
                    383.25,
                    413.41,
                    433.47,
                    405.54
                  ],
                  "x": [
                    "2003-3",
                    "2012-3",
                    "2012-6",
                    "2012-9",
                    "2012-12",
                    "2014-3",
                    "2014-6",
                    "2014-9",
                    "2014-12",
                    "2015-3",
                    "2015-6",
                    "2015-9",
                    "2015-12",
                    "2016-3",
                    "2016-6",
                    "2016-9",
                    "2016-12",
                    "2017-3",
                    "2017-6",
                    "2017-9",
                    "2017-12",
                    "2018-3"
                  ],
                  "type": "scatter",
                  "name": "Sul",
                  "uid": "dcd88255-be5c-4695-88ea-6d704b3c8ed3"
                }
              ]
            }
          },
          "metadata": {}
        }
      ]
    },
    {
      "metadata": {
        "trusted": true
      },
      "cell_type": "code",
      "source": "trace = go.Scatter(x = capacidade_rr['anoReferencia'], y = capacidade_rr['mdaPotenciaInstaladakW'])\nlayout = go.Layout(title = 'Capacidade Instalada (kW) - Roraima', yaxis = dict(title = 'Potência instalada (kW)'))\nfig = go.Figure(data=[trace], layout=layout)\npyo.iplot(fig,filename='/home/nbuser/library/roraima-energy-social/ANEEL/plots/capacidadeInstaladaRoraima-outlier', config=dict(showLink = False))",
      "execution_count": 44,
      "outputs": [
        {
          "output_type": "stream",
          "text": "/home/nbuser/anaconda3_501/lib/python3.6/site-packages/plotly/offline/offline.py:635: UserWarning:\n\nYour filename `/home/nbuser/library/roraima-energy-social/ANEEL/plots/capacidadeInstaladaRoraima-outlier` didn't end with .html. Adding .html to the end of your file.\n\n",
          "name": "stderr"
        },
        {
          "output_type": "execute_result",
          "execution_count": 44,
          "data": {
            "text/plain": "'file:///home/nbuser/library/roraima-energy-social/ANEEL/plots/capacidadeInstaladaRoraima-outlier.html'"
          },
          "metadata": {}
        }
      ]
    },
    {
      "metadata": {
        "trusted": true
      },
      "cell_type": "code",
      "source": "",
      "execution_count": null,
      "outputs": []
    }
  ],
  "metadata": {
    "kernelspec": {
      "name": "python36",
      "display_name": "Python 3.6",
      "language": "python"
    },
    "language_info": {
      "mimetype": "text/x-python",
      "nbconvert_exporter": "python",
      "name": "python",
      "pygments_lexer": "ipython3",
      "version": "3.6.6",
      "file_extension": ".py",
      "codemirror_mode": {
        "version": 3,
        "name": "ipython"
      }
    }
  },
  "nbformat": 4,
  "nbformat_minor": 2
}